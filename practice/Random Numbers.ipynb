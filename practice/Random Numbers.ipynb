{
 "cells": [
  {
   "cell_type": "markdown",
   "metadata": {},
   "source": [
    "# Random Numbers\n",
    "\n",
    "### Instructions\n",
    "Use the following code to create a list of 10 random numbers. Each number will be between 0 and 6."
   ]
  },
  {
   "cell_type": "code",
   "execution_count": 1,
   "metadata": {},
   "outputs": [],
   "source": [
    "import random\n",
    "\n",
    "my_randoms = list()\n",
    "for i in range(10):\n",
    "    my_randoms.append(random.randrange(1, 6, 1))"
   ]
  },
  {
   "cell_type": "code",
   "execution_count": 2,
   "metadata": {},
   "outputs": [
    {
     "data": {
      "text/plain": [
       "[4, 5, 5, 4, 2, 1, 3, 2, 1, 1]"
      ]
     },
     "execution_count": 2,
     "metadata": {},
     "output_type": "execute_result"
    }
   ],
   "source": [
    "# The `my_randoms` list will now contain random numbers\n",
    "my_randoms"
   ]
  },
  {
   "cell_type": "markdown",
   "metadata": {},
   "source": [
    "<hr>\n",
    "\n",
    "Now, iterate a different list of numbers that are sequential from 1 to 10. \n",
    "Use the following code as your starting point."
   ]
  },
  {
   "cell_type": "code",
   "execution_count": 39,
   "metadata": {
    "scrolled": false
   },
   "outputs": [
    {
     "name": "stdout",
     "output_type": "stream",
     "text": [
      "1 is in the random list\n",
      "2 is not in the random list\n",
      "3 is in the random list\n",
      "4 is in the random list\n",
      "5 is in the random list\n",
      "6 is not in the random list\n",
      "7 is not in the random list\n",
      "8 is not in the random list\n",
      "9 is not in the random list\n",
      "10 is not in the random list\n"
     ]
    }
   ],
   "source": [
    "import random\n",
    "\"\"\"\n",
    "Print a message to the console indicating whether each value of\n",
    "`number` is in the `my_randoms` list.\n",
    "\"\"\"\n",
    "\n",
    "my_randoms = list()\n",
    "for i in range(10):\n",
    "    my_randoms.append(random.randrange(1, 6, 1))\n",
    "\n",
    "# Generate a list of numbers 1..10\n",
    "numbers_1_to_10 = list()\n",
    "for i in range(1, 11, 1):\n",
    "    numbers_1_to_10.append(i)\n",
    "\n",
    "# Iterate from 1 to 10\n",
    "for number in numbers_1_to_10:\n",
    "    # the_numbers_match = False\n",
    "    if number in my_randoms:\n",
    "    # Iterate your random number list here\n",
    "    \n",
    "    \n",
    "    # Do the two numbers match? Change the boolean.\n",
    "\n",
    "        print(f'{number} is in the random list')\n",
    "    elif number not in my_randoms:\n",
    "        print(f'{number} is not in the random list')"
   ]
  }
 ],
 "metadata": {
  "kernelspec": {
   "display_name": "Python 3",
   "language": "python",
   "name": "python3"
  },
  "language_info": {
   "codemirror_mode": {
    "name": "ipython",
    "version": 3
   },
   "file_extension": ".py",
   "mimetype": "text/x-python",
   "name": "python",
   "nbconvert_exporter": "python",
   "pygments_lexer": "ipython3",
   "version": "3.7.6"
  }
 },
 "nbformat": 4,
 "nbformat_minor": 2
}
