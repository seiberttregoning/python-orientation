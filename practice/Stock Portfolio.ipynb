{
 "cells": [
  {
   "cell_type": "markdown",
   "metadata": {},
   "source": [
    "# Stock Portfolio - Advanced\n",
    "\n",
    "A block of publicly traded stock has a variety of attributes. \n",
    "Let's look at a few of them. \n",
    "A stock has a ticker symbol and a company name. \n",
    "\n",
    "### Part I.\n",
    "\n",
    "* Create a simple dictionary with ticker symbols and company names.\n",
    "\n",
    "**Example**\n",
    "```py\n",
    "stockDict = {\n",
    "    \"GM\": \"General Motors\",\n",
    "    \"CAT\":\"Caterpillar\",\n",
    "    \"EK\":\"Eastman Kodak\"\n",
    "}\n",
    "```\n",
    "\n",
    "* Create a simple list of blocks of stock. \n",
    "Make them tuples with ticker symbols, number of shares, dates and price.\n",
    "\n",
    "**Example**\n",
    "```py\n",
    "purchases = [\n",
    "    ( 'GE', 100, '10-sep-2001', 48 ),\n",
    "    ( 'CAT', 100, '1-apr-1999', 24 ),\n",
    "    ( 'GE', 200, '1-jul-1998', 56 )\n",
    "]\n",
    "```\n",
    "\n",
    "* Create a purchase history report that computes the full purchase price (shares times dollars) for each block of stock from the `purchases` dict and use the `stockDict` to look up the full company name. \n",
    "Think of this as an [INNER JOIN](https://www.postgresqltutorial.com/postgresql-inner-join/) between two tables.\n",
    "\n",
    "Example output for one block: \n",
    "> I purchased General Electric stock for $4800"
   ]
  },
  {
   "cell_type": "code",
   "execution_count": 10,
   "metadata": {},
   "outputs": [],
   "source": [
    "stockDict = {\n",
    "    'AAPL' : 'Apple',\n",
    "    'BRK' : 'Bershire Hathaway',\n",
    "    'GOOG' : 'Alphabet Inc.',\n",
    "    'HOG' : 'Harley-Davidson',\n",
    "    'HPQ' : 'Hewlett-Packard',\n",
    "    'INTC' : 'Intel',\n",
    "    'LUV' : 'Southwest Airlines',\n",
    "    'MSFT' : 'Microsoft',\n",
    "    'WMT' : 'Walmart',\n",
    "}\n",
    "\n",
    "purchases = [\n",
    "    ('AAPL', 100, '10-sep-2001', 48),\n",
    "    ('BRK', 150, '11-oct-2002', 24),\n",
    "    ('HOG', 200, '2-apr-1999', 35),\n",
    "    ('WMT', 225, '5-jun-2004', 50),\n",
    "    ('BRK', 123, '11-dec-2005', 45)\n",
    "]"
   ]
  },
  {
   "cell_type": "code",
   "execution_count": 11,
   "metadata": {},
   "outputs": [
    {
     "name": "stdout",
     "output_type": "stream",
     "text": [
      "I purchased Apple stock for $4800\n",
      "I purchased Bershire Hathaway stock for $3600\n",
      "I purchased Harley-Davidson stock for $7000\n",
      "I purchased Walmart stock for $11250\n",
      "I purchased Bershire Hathaway stock for $5535\n"
     ]
    }
   ],
   "source": [
    "for item in purchases:\n",
    "        print('I purchased ' + stockDict[item[0]] + ' stock for $' + str(item[1]*item[3]))"
   ]
  },
  {
   "cell_type": "markdown",
   "metadata": {},
   "source": [
    "<hr>\n",
    "\n",
    "### Part II.\n",
    "\n",
    "* Create a second purchase summary that accumulates total investment by ticker symbol. \n",
    "\n",
    "In the above sample data, there are two blocks of `GE`. \n",
    "These can easily be combined by creating a dict where the key is the ticker and the value is the list of blocks purchased. \n",
    "The program makes one pass through the data to create the dict. \n",
    "A pass through the dict can then create a report showing each ticker symbol and all blocks of stock.\n",
    "\n",
    "Example output:\n",
    "```\n",
    "------ GE ------\n",
    "100 shares at 48 dollars each on 01-jul-1998\n",
    "200 shares at 56 dollars each on 10-sep-2001\n",
    "\n",
    "Total value of stock in portfolio: $16000\n",
    "```"
   ]
  },
  {
   "cell_type": "code",
   "execution_count": 75,
   "metadata": {},
   "outputs": [],
   "source": [
    "purchase_dict = {}\n",
    "\n",
    "for item in purchases:\n",
    "    ticker = item[0]\n",
    "    purchase_dict[ticker] = []\n",
    "\n",
    "for ticker in purchase_dict.keys():\n",
    "    for symbol in purchases:\n",
    "        if ticker == symbol[0]:\n",
    "              purchase_dict[ticker].append(symbol)"
   ]
  },
  {
   "cell_type": "code",
   "execution_count": 123,
   "metadata": {},
   "outputs": [
    {
     "name": "stdout",
     "output_type": "stream",
     "text": [
      "------- AAPL -------\n",
      "100 shares at 48 dollars each on 10-sep-2001\n",
      "\n",
      "Total value of stock in portfolio: 4800\n",
      "\n",
      "\n",
      "------- BRK -------\n",
      "150 shares at 24 dollars each on 11-oct-2002\n",
      "123 shares at 45 dollars each on 11-dec-2005\n",
      "\n",
      "Total value of stock in portfolio: 9135\n",
      "\n",
      "\n",
      "------- HOG -------\n",
      "200 shares at 35 dollars each on 2-apr-1999\n",
      "\n",
      "Total value of stock in portfolio: 7000\n",
      "\n",
      "\n",
      "------- WMT -------\n",
      "225 shares at 50 dollars each on 5-jun-2004\n",
      "\n",
      "Total value of stock in portfolio: 11250\n",
      "\n",
      "\n"
     ]
    }
   ],
   "source": [
    "for key, value in purchase_dict.items():\n",
    "    print('------- ' + key + ' -------')\n",
    "    total_value = 0\n",
    "    for purchase in value:\n",
    "        print(str(purchase[1]) + ' shares at ' + str(purchase[3]) + ' dollars each on ' + str(purchase[2]))\n",
    "        value_purchase = (purchase[1]*purchase[3])\n",
    "        total_value = total_value + value_purchase\n",
    "    print('\\nTotal value of stock in portfolio: ' + str(total_value) + '\\n\\n')"
   ]
  }
 ],
 "metadata": {
  "kernelspec": {
   "display_name": "Python 3",
   "language": "python",
   "name": "python3"
  },
  "language_info": {
   "codemirror_mode": {
    "name": "ipython",
    "version": 3
   },
   "file_extension": ".py",
   "mimetype": "text/x-python",
   "name": "python",
   "nbconvert_exporter": "python",
   "pygments_lexer": "ipython3",
   "version": "3.7.6"
  }
 },
 "nbformat": 4,
 "nbformat_minor": 2
}
