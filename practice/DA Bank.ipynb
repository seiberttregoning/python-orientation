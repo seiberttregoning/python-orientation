{
 "cells": [
  {
   "cell_type": "markdown",
   "metadata": {},
   "source": [
    "# DA Bank\n",
    "\n",
    "## Part I: Coins to Cash\n",
    "\n",
    "Create a function called `calc_dollars`. \n",
    "In the function body, define a dictionary and store it in a variable named `piggy_bank`. \n",
    "The dictionary should have the following keys defined.\n",
    "* quarters\n",
    "* nickels\n",
    "* dimes\n",
    "* pennies\n",
    "\n",
    "For each coin type, give yourself as many as you like.\n",
    "```py\n",
    "piggy_bank = {\n",
    "    \"pennies\": 342,\n",
    "    \"nickels\": 9,\n",
    "    \"dimes\": 32\n",
    "}\n",
    "```\n",
    "\n",
    "Once you have given yourself a large stash of coins in your `piggy_bank`, look at each key and perform the appropriate math on the integer value to determine how much money you have in dollars. \n",
    "Store that value in a variable named `dollar_amount` and print it.\n",
    "\n",
    "Given the coins shown above, the output would be `7.07` when you call `calc_dollars()`."
   ]
  },
  {
   "cell_type": "code",
   "execution_count": 14,
   "metadata": {},
   "outputs": [],
   "source": [
    "def calc_dollars(bank):\n",
    "    \"\"\"This function takes a dictionary of coins and converts the number of coins to dollars\"\"\"\n",
    "    if type(bank) == dict:\n",
    "        try:        \n",
    "            value_pennies = bank['pennies'] * 0.01\n",
    "        except:\n",
    "            value_pennies = 0\n",
    "        try:\n",
    "            value_nickels = bank['nickels'] * 0.05\n",
    "        except:\n",
    "            value_nickels = 0\n",
    "        try:\n",
    "            value_dimes = bank['dimes'] * 0.1\n",
    "        except:\n",
    "            value_dimes = 0\n",
    "        try:\n",
    "            value_quarters = bank['quarters'] * 0.25\n",
    "        except:\n",
    "            value_quarters = 0\n",
    "        print(value_pennies + value_nickels + value_dimes + value_quarters)\n",
    "    else:\n",
    "        print('calc_function expects dictionary of coins')"
   ]
  },
  {
   "cell_type": "code",
   "execution_count": 24,
   "metadata": {},
   "outputs": [],
   "source": [
    "piggy_bank = {\n",
    "    'pennies' : 342,\n",
    "    'nickels' : 9,\n",
    "    'dimes' : 32\n",
    "}"
   ]
  },
  {
   "cell_type": "code",
   "execution_count": 25,
   "metadata": {},
   "outputs": [
    {
     "name": "stdout",
     "output_type": "stream",
     "text": [
      "7.07\n"
     ]
    }
   ],
   "source": [
    "calc_dollars(piggy_bank)"
   ]
  },
  {
   "cell_type": "markdown",
   "metadata": {},
   "source": [
    "<hr>\n",
    "\n",
    "## Part II: Cash to Coins\n",
    "\n",
    "Now.. Do the reverse. \n",
    "Convert the dollar amount into the coins that make up that dollar amount. \n",
    "The final result is an object with the correct number of quarters, dimes, nickels, and pennies."
   ]
  },
  {
   "cell_type": "code",
   "execution_count": 49,
   "metadata": {},
   "outputs": [],
   "source": [
    "dollar_amount = 8.69\n",
    "\n",
    "piggy_bank = {\n",
    "    \"pennies\": 0,\n",
    "    \"nickels\": 0,\n",
    "    \"dimes\": 0,\n",
    "    \"quarters\": 0\n",
    "}"
   ]
  },
  {
   "cell_type": "code",
   "execution_count": 50,
   "metadata": {},
   "outputs": [],
   "source": [
    "def round_floor(number, decimals = 0):\n",
    "    \"\"\"This function takes a number and rounds it down to decimal place\"\"\"\n",
    "    multiplier = 10 ** decimals\n",
    "    return int(number * multiplier) / multiplier"
   ]
  },
  {
   "cell_type": "code",
   "execution_count": 71,
   "metadata": {},
   "outputs": [],
   "source": [
    "def coins_calc(variable):\n",
    "    \"\"\"This function takes an int or float and returns a dictionary of the smallest amount of coins to equal it\"\"\"\n",
    "    global piggy_bank\n",
    "    if type(variable) == int or type(variable) == float:\n",
    "        piggy_bank['quarters'] = int(round_floor(variable/0.25))\n",
    "        remaining1 = round(variable - (piggy_bank['quarters'] * 0.25), 2)\n",
    "        \n",
    "        piggy_bank['dimes'] = int(round_floor(remaining1/0.10))\n",
    "        remaining2 = round(remaining1 - (piggy_bank['dimes'] * 0.10), 2)\n",
    "        \n",
    "        piggy_bank['nickels'] = int(round_floor(remaining2/0.05))\n",
    "        remaining3 = round(remaining2 - (piggy_bank['nickels'] * 0.05), 2)\n",
    "        \n",
    "        piggy_bank['pennies'] = int(remaining3 / 0.01)\n",
    "        print(piggy_bank)\n",
    "    else:\n",
    "        print('Error: coins_calc expects a number')\n",
    "\n"
   ]
  },
  {
   "cell_type": "code",
   "execution_count": 76,
   "metadata": {},
   "outputs": [
    {
     "name": "stdout",
     "output_type": "stream",
     "text": [
      "{'pennies': 4, 'nickels': 1, 'dimes': 1, 'quarters': 34}\n"
     ]
    }
   ],
   "source": [
    "coins_calc(dollar_amount)"
   ]
  },
  {
   "cell_type": "code",
   "execution_count": 73,
   "metadata": {},
   "outputs": [
    {
     "name": "stdout",
     "output_type": "stream",
     "text": [
      "{'pennies': 4, 'nickels': 1, 'dimes': 1, 'quarters': 34}\n"
     ]
    }
   ],
   "source": [
    "print(piggy_bank)"
   ]
  },
  {
   "cell_type": "markdown",
   "metadata": {},
   "source": [
    "That should produce the following output.\n",
    "\n",
    "```\n",
    ">>> print(piggyBank)\n",
    "{ 'quarters': 34, 'nickels': 1, 'dimes': 1, 'pennies': 4 }\n",
    "```"
   ]
  }
 ],
 "metadata": {
  "kernelspec": {
   "display_name": "Python 3",
   "language": "python",
   "name": "python3"
  },
  "language_info": {
   "codemirror_mode": {
    "name": "ipython",
    "version": 3
   },
   "file_extension": ".py",
   "mimetype": "text/x-python",
   "name": "python",
   "nbconvert_exporter": "python",
   "pygments_lexer": "ipython3",
   "version": "3.7.6"
  }
 },
 "nbformat": 4,
 "nbformat_minor": 2
}
