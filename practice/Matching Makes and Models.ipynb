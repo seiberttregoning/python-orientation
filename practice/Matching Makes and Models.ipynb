{
 "cells": [
  {
   "cell_type": "markdown",
   "metadata": {},
   "source": [
    "# Matching Makes and Models - Advanced"
   ]
  },
  {
   "cell_type": "code",
   "execution_count": 1,
   "metadata": {},
   "outputs": [],
   "source": [
    "makes = (\n",
    "  (1, \"Toyota\"), (2, \"Nissan\"),\n",
    "  (3, \"Ford\"), (4, \"Mini\"),\n",
    "  (5, \"Honda\"), (6, \"Dodge\"),\n",
    ")\n",
    "\n",
    "models = (\n",
    "  (1, \"Altima\", 2), (2, \"Thunderbird\", 3),\n",
    "  (3, \"Dart\", 6), (4, \"Accord\", 5),\n",
    "  (5, \"Prius\", 1), (6, \"Countryman\", 4),\n",
    "  (7, \"Camry\", 1), (8, \"F150\", 3),\n",
    "  (9, \"Civic\", 5), (10, \"Ram\", 6),\n",
    "  (11, \"Cooper\", 4), (12, \"Pilot\", 5),\n",
    "  (13, \"Xterra\", 2), (14, \"Sentra\", 2),\n",
    "  (15, \"Charger\", 6)\n",
    ")\n",
    "\n",
    "colors = (\n",
    "  (1, \"Black\" ), (2, \"Charcoal\" ), (3, \"Red\" ), (4, \"Brick\" ),\n",
    "  (5, \"Blue\" ), (6, \"Navy\" ), (7, \"White\" ), (8, \"Ivory\" )\n",
    ")\n",
    "\n",
    "available_car_colors = (\n",
    "  (1, 1), (1, 2), (1, 7),\n",
    "  (2, 1), (2, 3), (2, 7),\n",
    "  (3, 2), (3, 3), (3, 7),\n",
    "  (4, 3), (4, 5), (4, 8),\n",
    "  (5, 2), (5, 4), (5, 8),\n",
    "  (6, 2), (6, 6), (6, 7),\n",
    "  (7, 1), (7, 3), (7, 7),\n",
    "  (8, 1), (8, 5), (8, 8),\n",
    "  (9, 1), (9, 6), (9, 7),\n",
    "  (10, 2), (10, 5), (10, 7),\n",
    "  (11, 3), (11, 6), (11, 8),\n",
    "  (12, 1), (12, 4), (12, 7),\n",
    "  (13, 2), (13, 6), (13, 8),\n",
    "  (14, 2), (14, 5), (14, 8),\n",
    "  (15, 1), (15, 4), (15, 7)\n",
    ")"
   ]
  },
  {
   "cell_type": "markdown",
   "metadata": {},
   "source": [
    "## Overview\n",
    "This is an advanced challenge because it requires multiple layers of iteration. \n",
    "It also makes you think about database relationships because there are four unique collections that are all related to each other.\n",
    "\n",
    "In the `makes` and `colors` collections, each item has a numeric identifier, and then a string representation.\n",
    "\n",
    "**Example**\n",
    "```\n",
    "(1, \"Toyota\")\n",
    "```\n",
    "\n",
    "<hr>\n",
    "\n",
    "In the `models` collection, each item also has a numeric identifier, but also stores the numeric identifier of a model.\n",
    "\n",
    "**Example**\n",
    "```\n",
    "(5, \"Prius\", 1)\n",
    "# 5 is the numeric identifier for a Prius\n",
    "# 1 is the numeric identifier to a foreign collection item... Toyota\n",
    "```\n",
    "\n",
    "<hr>\n",
    "\n",
    "Finally, the `available_car_colors` collection is storing the relationships between items in two foreign collections. \n",
    "The first number represents the corresponding model, and the second number represents the corresponding color.\n",
    "\n",
    "**Example**\n",
    "```\n",
    "(1, 7)\n",
    "# This represents a relationship between \"Altima\" and \"White\"\n",
    "```"
   ]
  },
  {
   "cell_type": "markdown",
   "metadata": {},
   "source": [
    "<hr>\n",
    "\n",
    "## Instructions\n",
    "\n",
    "### Part I: Reporting Object\n",
    "You must first build a new dictionary that follows the format below.\n",
    "\n",
    "Each key in the dictionary should be the name of a make, and its value will be a dictionary.\n",
    "The keys in the make dictionary will be the models, and the value will be a list of colors in which that the model is available.\n",
    "```json\n",
    "{\n",
    "    'Toyota': {\n",
    "      'Prius': ['Charcoal', 'Brick', 'Ivory'],\n",
    "      'Camry': ['Black', 'Red', 'White']\n",
    "    },\n",
    "    'Nissan': {\n",
    "      'Sentra': ['Charcoal', 'Blue', 'Ivory'],\n",
    "      'Altima': ['Black', 'Charcoal', 'White'],\n",
    "      'Xterra': ['Charcoal', 'Navy', 'Ivory']\n",
    "    },\n",
    "    'Mini': {\n",
    "      'Countryman': ['Charcoal', 'Navy', 'White'],\n",
    "      'Cooper': ['Red', 'Navy', 'Ivory']\n",
    "    },\n",
    "    'Ford': {\n",
    "      'F150': ['Black', 'Blue', 'Ivory'],\n",
    "      'Thunderbird': ['Black', 'Red', 'White']\n",
    "    },\n",
    "    'Honda': {\n",
    "      'Civic': ['Black', 'Navy', 'White'],\n",
    "      'Pilot': ['Black', 'Brick', 'White'],\n",
    "      'Accord': ['Red', 'Blue', 'Ivory']\n",
    "    },\n",
    "    'Dodge': {\n",
    "      'Ram': ['Charcoal', 'Blue', 'White'],\n",
    "      'Charger': ['Black', 'Brick', 'White'],\n",
    "      'Dart': ['Charcoal', 'Red', 'White']\n",
    "    }\n",
    "}\n",
    "```\n",
    "\n",
    "Of course, you should not do this manually.\n",
    "Write a program that does it for you."
   ]
  },
  {
   "cell_type": "code",
   "execution_count": 2,
   "metadata": {},
   "outputs": [
    {
     "name": "stdout",
     "output_type": "stream",
     "text": [
      "{'Toyota': {'Prius': ['Charcoal', 'Brick', 'Ivory'], 'Camry': ['Black', 'Red', 'White']}, 'Nissan': {'Altima': ['Black', 'Charcoal', 'White'], 'Xterra': ['Charcoal', 'Navy', 'Ivory'], 'Sentra': ['Charcoal', 'Blue', 'Ivory']}, 'Ford': {'Thunderbird': ['Black', 'Red', 'White'], 'F150': ['Black', 'Blue', 'Ivory']}, 'Mini': {'Countryman': ['Charcoal', 'Navy', 'White'], 'Cooper': ['Red', 'Navy', 'Ivory']}, 'Honda': {'Accord': ['Red', 'Blue', 'Ivory'], 'Civic': ['Black', 'Navy', 'White'], 'Pilot': ['Black', 'Brick', 'White']}, 'Dodge': {'Dart': ['Charcoal', 'Red', 'White'], 'Ram': ['Charcoal', 'Blue', 'White'], 'Charger': ['Black', 'Brick', 'White']}}\n"
     ]
    }
   ],
   "source": [
    "# This code creates an empty dictionary then \n",
    "# iterates over the models tuple of tuples \n",
    "# and fills the dictionary with models as keys\n",
    "# and an empty list as the value\n",
    "\n",
    "models_colors = {}\n",
    "\n",
    "for x in models:\n",
    "    models_colors[x[1]] = []\n",
    "    \n",
    "\n",
    "\n",
    "# This code creates a list of tuples where the\n",
    "# first value in the tuple is a car model and\n",
    "# the second value in the tuple is a color code.\n",
    "# There are as many tuples as there are models with\n",
    "# a color.\n",
    "\n",
    "models_colors_list = []\n",
    "\n",
    "for x in available_car_colors:\n",
    "    for y in models:\n",
    "        if x[0] == y[0]:\n",
    "            models_colors_list.append((y[1], x[1]))\n",
    "            \n",
    "            \n",
    "\n",
    "# This code takes the models_colors_list list and replaces\n",
    "# the code for color with the string for color from the\n",
    "# colors tuple. This gives a list of tuples where the first\n",
    "# value in the tuple is the model and the second is the color.\n",
    "\n",
    "models_colors_list2 = []\n",
    "\n",
    "for x in models_colors_list:\n",
    "    for y in colors:\n",
    "        if x[1] == y[0]:\n",
    "            models_colors_list2.append((x[0], y[1]))\n",
    "            \n",
    "            \n",
    "\n",
    "# This code iterates over the earlier dictionary of\n",
    "# models as keys with empty lists as values and iterates\n",
    "# over the models_colors_list2 and appends the color\n",
    "# to the empty list if the model name matches. This changes\n",
    "# the first dictionary to each model as a key and each\n",
    "# available color as an item in a list.\n",
    "\n",
    "for key, value in models_colors.items():\n",
    "    for x in models_colors_list2:\n",
    "        if x[0] == key:\n",
    "            value.append(x[1])\n",
    "            \n",
    "\n",
    "\n",
    "# This generates an empty list and fills that list with\n",
    "# tuples of each model as the second value with the model's\n",
    "# make as the first value in the tuple.\n",
    "\n",
    "models_to_makes = []\n",
    "\n",
    "for x in models:\n",
    "    for y in makes:\n",
    "        if x[2] == y[0]:\n",
    "            models_to_makes.append((y[1], x[1]))\n",
    "\n",
    "            \n",
    "\n",
    "# This creates an empty dictionary and iterates over\n",
    "# the makes tuple of tuples and makes a dictionary\n",
    "# entry for each make where the make is the key and\n",
    "# an empty dictionary is the value.\n",
    "\n",
    "dictionary = {}\n",
    "\n",
    "for x in makes:\n",
    "    dictionary[x[1]] = {}\n",
    "    \n",
    "    \n",
    "\n",
    "# This iterates over the list of tuples of the models \n",
    "# and the makes and the dictionary where makes are the key\n",
    "# and the empty dictionary is the value and where the make\n",
    "# in the dictionary matches the make in the tuple it puts a model\n",
    "# as an key with an empty list as value in the empty make dictionary.\n",
    "\n",
    "for x in models_to_makes:\n",
    "    for key, value in dictionary.items():\n",
    "        if x[0] == key:\n",
    "            dictionary[key].update({x[1] : []})\n",
    "            \n",
    "            \n",
    "\n",
    "# This iterates over the dictionary with empty lists as values\n",
    "# matching the models as keys where the models and colors are values\n",
    "# in the dictionary with makes as keys.\n",
    "\n",
    "for value in dictionary.values():\n",
    "    for key1, value1 in value.items():\n",
    "        for key2, value2 in models_colors.items():\n",
    "            if key1 == key2:\n",
    "                value1.extend(value2)\n",
    "                \n",
    "print(dictionary)"
   ]
  },
  {
   "cell_type": "code",
   "execution_count": null,
   "metadata": {},
   "outputs": [],
   "source": [
    "# The code below should be run sequentially and only once. The code uses\n",
    "# append and extend methods and if it chunks are run more than once it may\n",
    "# produce unexpected results. The code is the same as the block above, the\n",
    "# block above was created to prevent the append and extend methods from creating\n",
    "# unintended duplicates."
   ]
  },
  {
   "cell_type": "code",
   "execution_count": null,
   "metadata": {},
   "outputs": [],
   "source": [
    "# This code creates an empty dictionary then \n",
    "# iterates over the models tuple of tuples \n",
    "# and fills the dictionary with models as keys\n",
    "# and an empty list as the value\n",
    "\n",
    "models_colors = {}\n",
    "\n",
    "for x in models:\n",
    "    models_colors[x[1]] = []"
   ]
  },
  {
   "cell_type": "code",
   "execution_count": null,
   "metadata": {},
   "outputs": [],
   "source": [
    "# This code creates a list of tuples where the\n",
    "# first value in the tuple is a car model and\n",
    "# the second value in the tuple is a color code.\n",
    "# There are as many tuples as there are models with\n",
    "# a color.\n",
    "\n",
    "models_colors_list = []\n",
    "\n",
    "for x in available_car_colors:\n",
    "    for y in models:\n",
    "        if x[0] == y[0]:\n",
    "            models_colors_list.append((y[1], x[1]))"
   ]
  },
  {
   "cell_type": "code",
   "execution_count": null,
   "metadata": {},
   "outputs": [],
   "source": [
    "# This code takes the models_colors_list list and replaces\n",
    "# the code for color with the string for color from the\n",
    "# colors tuple. This gives a list of tuples where the first\n",
    "# value in the tuple is the model and the second is the color.\n",
    "\n",
    "models_colors_list2 = []\n",
    "\n",
    "for x in models_colors_list:\n",
    "    for y in colors:\n",
    "        if x[1] == y[0]:\n",
    "            models_colors_list2.append((x[0], y[1]))"
   ]
  },
  {
   "cell_type": "code",
   "execution_count": null,
   "metadata": {
    "scrolled": true
   },
   "outputs": [],
   "source": [
    "# This code iterates over the earlier dictionary of\n",
    "# models as keys with empty lists as values and iterates\n",
    "# over the models_colors_list2 and appends the color\n",
    "# to the empty list if the model name matches. This changes\n",
    "# the first dictionary to each model as a key and each\n",
    "# available color as an item in a list.\n",
    "\n",
    "for key, value in models_colors.items():\n",
    "    for x in models_colors_list2:\n",
    "        if x[0] == key:\n",
    "            value.append(x[1])"
   ]
  },
  {
   "cell_type": "code",
   "execution_count": null,
   "metadata": {},
   "outputs": [],
   "source": [
    "# This generates an empty list and fills that list with\n",
    "# tuples of each model as the second value with the model's\n",
    "# make as the first value in the tuple.\n",
    "\n",
    "models_to_makes = []\n",
    "\n",
    "for x in models:\n",
    "    for y in makes:\n",
    "        if x[2] == y[0]:\n",
    "            models_to_makes.append((y[1], x[1]))"
   ]
  },
  {
   "cell_type": "code",
   "execution_count": null,
   "metadata": {},
   "outputs": [],
   "source": [
    "# This creates an empty dictionary and iterates over\n",
    "# the makes tuple of tuples and makes a dictionary\n",
    "# entry for each make where the make is the key and\n",
    "# an empty dictionary is the value.\n",
    "\n",
    "dictionary = {}\n",
    "\n",
    "for x in makes:\n",
    "    dictionary[x[1]] = {}"
   ]
  },
  {
   "cell_type": "code",
   "execution_count": null,
   "metadata": {},
   "outputs": [],
   "source": [
    "# This iterates over the list of tuples of the models \n",
    "# and the makes and the dictionary where makes are the key\n",
    "# and the empty dictionary is the value and where the make\n",
    "# in the dictionary matches the make in the tuple it puts a model\n",
    "# as an key with an empty list as value in the empty make dictionary.\n",
    "\n",
    "for x in models_to_makes:\n",
    "    for key, value in dictionary.items():\n",
    "        if x[0] == key:\n",
    "            dictionary[key].update({x[1] : []})"
   ]
  },
  {
   "cell_type": "code",
   "execution_count": null,
   "metadata": {},
   "outputs": [],
   "source": [
    "# This iterates over the dictionary with empty lists as values\n",
    "# matching the models as keys where the models and colors are values\n",
    "# in the dictionary with makes as keys.\n",
    "\n",
    "for value in dictionary.values():\n",
    "    for key1, value1 in value.items():\n",
    "        for key2, value2 in models_colors.items():\n",
    "            if key1 == key2:\n",
    "                value1.extend(value2)\n",
    "                \n",
    "print(dictionary)"
   ]
  },
  {
   "cell_type": "markdown",
   "metadata": {},
   "source": [
    "<hr>\n",
    "\n",
    "### Part II: Functional Report\n",
    "\n",
    "Create a function that accepts a `make` as an argument, and generates a report that looks like this: \n",
    "\n",
    "```py\n",
    "my_function(\"Ford\")\n",
    "```\n",
    "\n",
    "**Output**\n",
    "```\n",
    "Ford\n",
    "------------------\n",
    "F150 available in Black, Blue, Ivory\n",
    "Thunderbird available in Black, Red, White\n",
    "```"
   ]
  },
  {
   "cell_type": "code",
   "execution_count": null,
   "metadata": {},
   "outputs": [],
   "source": [
    "def my_function(make):\n",
    "    \"\"\"This function takes a make as input and prints out available models and\"\"\"\n",
    "    \"\"\" colors from the available models and colors in the dictionary\"\"\"\n",
    "    if make in dictionary.keys():\n",
    "        for key, value in dictionary.items():\n",
    "            if key == make:\n",
    "                print(make)\n",
    "                print('------------------')\n",
    "                for key1, value1 in dictionary[make].items():\n",
    "                    print(key1 + ' available in ' + ', '.join(value1))\n",
    "    else:\n",
    "        print('\"'+make + '\" not found in dictionary, please check spelling')\n",
    "    \n",
    "    \n",
    "    "
   ]
  },
  {
   "cell_type": "code",
   "execution_count": null,
   "metadata": {},
   "outputs": [],
   "source": [
    "my_function('Ford')"
   ]
  },
  {
   "cell_type": "markdown",
   "metadata": {},
   "source": [
    "<hr>\n",
    "\n",
    "### Part III: Black Hat Hacker Challenge!!\n",
    "\n",
    "Rewrite your nested `for loops` as nested `comprehensions`."
   ]
  },
  {
   "cell_type": "code",
   "execution_count": 3,
   "metadata": {},
   "outputs": [
    {
     "name": "stdout",
     "output_type": "stream",
     "text": [
      "{'Toyota': {'Prius': ['Charcoal', 'Brick', 'Ivory'], 'Camry': ['Black', 'Red', 'White']}, 'Nissan': {'Altima': ['Black', 'Charcoal', 'White'], 'Xterra': ['Charcoal', 'Navy', 'Ivory'], 'Sentra': ['Charcoal', 'Blue', 'Ivory']}, 'Ford': {'Thunderbird': ['Black', 'Red', 'White'], 'F150': ['Black', 'Blue', 'Ivory']}, 'Mini': {'Countryman': ['Charcoal', 'Navy', 'White'], 'Cooper': ['Red', 'Navy', 'Ivory']}, 'Honda': {'Accord': ['Red', 'Blue', 'Ivory'], 'Civic': ['Black', 'Navy', 'White'], 'Pilot': ['Black', 'Brick', 'White']}, 'Dodge': {'Dart': ['Charcoal', 'Red', 'White'], 'Ram': ['Charcoal', 'Blue', 'White'], 'Charger': ['Black', 'Brick', 'White']}}\n"
     ]
    }
   ],
   "source": [
    "# This code creates a dictionary where each model in the\n",
    "# models tuple of tuples is a key and an empty list is the value\n",
    "\n",
    "comp_models_colors = {x[1]:[] for x in models}\n",
    "\n",
    "\n",
    "\n",
    "# This creates a list of tuples where the first item in\n",
    "# the tuple is a model and the second item is the color\n",
    "# code.\n",
    "\n",
    "comp_models_colors_list = [(y[1], x[1]) for x in available_car_colors for y in models if x[0] == y[0]]\n",
    "\n",
    "\n",
    "\n",
    "# This code creats another list of tuples where the\n",
    "# first item in each tuple is the model and the\n",
    "# second item is an available color. There is a tuple\n",
    "# for each combination of model and color.\n",
    "\n",
    "comp_models_colors_list2 = [(x[0], y[1]) for x in models_colors_list for y in colors if x[1] == y[0]]\n",
    "\n",
    "\n",
    "\n",
    "# This adds the available colors as a list of strings as a value to the\n",
    "# model as a key in the comp_models_colors dictionary\n",
    "\n",
    "[value.append(x[1]) for key, value in comp_models_colors.items() for x in comp_models_colors_list2 if x[0] == key]\n",
    "\n",
    "\n",
    "\n",
    "# This makes a list of tuples where the first value of each tuple is\n",
    "# the make and the second value is each model\n",
    "\n",
    "comp_models_to_makes = [(y[1], x[1]) for x in models for y in makes if x[2] == y[0]]\n",
    "\n",
    "\n",
    "\n",
    "# This creates a dictionary where the value\n",
    "# is each make in the makes list of tuples\n",
    "# with an empty dictionary as the value\n",
    "\n",
    "comp_dictionary = {x[1] : {} for x in makes}\n",
    "\n",
    "\n",
    "\n",
    "# This updates comp_dictionary so that each make is a key\n",
    "# and the value is a dictionary where each model is a key\n",
    "# and an empty list is the value\n",
    "\n",
    "{comp_dictionary[key].update({x[1] : []}) for x in models_to_makes for key, value in comp_dictionary.items() if x[0] == key}\n",
    "\n",
    "\n",
    "\n",
    "# This puts the available colors for each model in the list\n",
    "# which is the value of the dictionary where the models are keys\n",
    "# which is the value of the parent dictionary where makes are keys\n",
    "\n",
    "{value1.extend(value2) for value in comp_dictionary.values() for key1, value1 in value.items() for key2, value2 in comp_models_colors.items() if key1 == key2}\n",
    "\n",
    "\n",
    "\n",
    "print(comp_dictionary)"
   ]
  },
  {
   "cell_type": "code",
   "execution_count": null,
   "metadata": {},
   "outputs": [],
   "source": [
    "# The code below should be run sequentially and only once. The code uses\n",
    "# append and extend methods and if it chunks are run more than once it may\n",
    "# produce unexpected results. The code is the same as the block above, the\n",
    "# block above was created to prevent the append and extend methods from creating\n",
    "# unintended duplicates."
   ]
  },
  {
   "cell_type": "code",
   "execution_count": null,
   "metadata": {},
   "outputs": [],
   "source": [
    "# This code creates a dictionary where each model in the\n",
    "# models tuple of tuples is a key and an empty list is the value\n",
    "\n",
    "comp_models_colors = {x[1]:[] for x in models}"
   ]
  },
  {
   "cell_type": "code",
   "execution_count": null,
   "metadata": {},
   "outputs": [],
   "source": [
    "# This creates a list of tuples where the first item in\n",
    "# the tuple is a model and the second item is the color\n",
    "# code.\n",
    "\n",
    "comp_models_colors_list = [(y[1], x[1]) for x in available_car_colors for y in models if x[0] == y[0]]"
   ]
  },
  {
   "cell_type": "code",
   "execution_count": null,
   "metadata": {},
   "outputs": [],
   "source": [
    "# This code creats another list of tuples where the\n",
    "# first item in each tuple is the model and the\n",
    "# second item is an available color. There is a tuple\n",
    "# for each combination of model and color.\n",
    "\n",
    "comp_models_colors_list2 = [(x[0], y[1]) for x in models_colors_list for y in colors if x[1] == y[0]]"
   ]
  },
  {
   "cell_type": "code",
   "execution_count": null,
   "metadata": {},
   "outputs": [],
   "source": [
    "# This adds the available colors as a list of strings as a value to the\n",
    "# model as a key in the comp_models_colors dictionary\n",
    "\n",
    "[value.append(x[1]) for key, value in comp_models_colors.items() for x in comp_models_colors_list2 if x[0] == key]"
   ]
  },
  {
   "cell_type": "code",
   "execution_count": null,
   "metadata": {},
   "outputs": [],
   "source": [
    "# This makes a list of tuples where the first value of each tuple is\n",
    "# the make and the second value is each model\n",
    "\n",
    "comp_models_to_makes = [(y[1], x[1]) for x in models for y in makes if x[2] == y[0]]"
   ]
  },
  {
   "cell_type": "code",
   "execution_count": null,
   "metadata": {},
   "outputs": [],
   "source": [
    "# This creates a dictionary where the value\n",
    "# is each make in the makes list of tuples\n",
    "# with an empty dictionary as the value\n",
    "\n",
    "comp_dictionary = {x[1] : {} for x in makes}"
   ]
  },
  {
   "cell_type": "code",
   "execution_count": null,
   "metadata": {},
   "outputs": [],
   "source": [
    "# This updates comp_dictionary so that each make is a key\n",
    "# and the value is a dictionary where each model is a key\n",
    "# and an empty list is the value\n",
    "\n",
    "{comp_dictionary[key].update({x[1] : []}) for x in models_to_makes for key, value in comp_dictionary.items() if x[0] == key}"
   ]
  },
  {
   "cell_type": "code",
   "execution_count": null,
   "metadata": {
    "scrolled": true
   },
   "outputs": [],
   "source": [
    "# This puts the available colors for each model in the list\n",
    "# which is the value of the dictionary where the models are keys\n",
    "# which is the value of the parent dictionary where makes are keys\n",
    "\n",
    "{value1.extend(value2) for value in comp_dictionary.values() for key1, value1 in value.items() for key2, value2 in comp_models_colors.items() if key1 == key2}"
   ]
  },
  {
   "cell_type": "code",
   "execution_count": null,
   "metadata": {},
   "outputs": [],
   "source": [
    "print(comp_dictionary)"
   ]
  }
 ],
 "metadata": {
  "kernelspec": {
   "display_name": "Python 3",
   "language": "python",
   "name": "python3"
  },
  "language_info": {
   "codemirror_mode": {
    "name": "ipython",
    "version": 3
   },
   "file_extension": ".py",
   "mimetype": "text/x-python",
   "name": "python",
   "nbconvert_exporter": "python",
   "pygments_lexer": "ipython3",
   "version": "3.7.6"
  }
 },
 "nbformat": 4,
 "nbformat_minor": 2
}
