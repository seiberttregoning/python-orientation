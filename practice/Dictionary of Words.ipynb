{
 "cells": [
  {
   "cell_type": "markdown",
   "metadata": {},
   "source": [
    "# Dictionary of Words\n",
    "\n",
    "You are going to build a Python Dictionary to represent an actual dictionary. \n",
    "Each key/value pair within the Dictionary will contain a single word as the key, and a definition as the value. \n",
    "Below is some starter code. \n",
    "You need to add a few more words and definitions to the dictionary.\n",
    "\n",
    "After you have added them, use square bracket notation to output the definition of two of the words to the console.\n",
    "\n",
    "Lastly, use the for in loop to iterate over the KeyValuePairs and display the entire dictionary to the console."
   ]
  },
  {
   "cell_type": "code",
   "execution_count": 2,
   "metadata": {},
   "outputs": [
    {
     "data": {
      "text/plain": [
       "'\\nLoop over the dictionary to get the following output:\\n    The definition of [WORD] is [DEFINITION]\\n    The definition of [WORD] is [DEFINITION]\\n    The definition of [WORD] is [DEFINITION]\\n'"
      ]
     },
     "execution_count": 2,
     "metadata": {},
     "output_type": "execute_result"
    }
   ],
   "source": [
    "\"\"\"\n",
    "Create a dictionary with key value pairs to\n",
    "represent words (key) and its definition (value)\n",
    "\"\"\"\n",
    "word_definitions = dict()\n",
    "\n",
    "\"\"\"\n",
    "Add several more words and their definitions\n",
    "   Example: word_definitions[\"Awesome\"] = \"The feeling of students when they are learning Python\"\n",
    "\"\"\"\n",
    "\n",
    "\"\"\"\n",
    "Use square bracket lookup to get the definition of two\n",
    "words and output them to the console with `print()`\n",
    "\"\"\"\n",
    "\n",
    "\n",
    "\"\"\"\n",
    "Loop over the dictionary to get the following output:\n",
    "    The definition of [WORD] is [DEFINITION]\n",
    "    The definition of [WORD] is [DEFINITION]\n",
    "    The definition of [WORD] is [DEFINITION]\n",
    "\"\"\""
   ]
  },
  {
   "cell_type": "code",
   "execution_count": 3,
   "metadata": {},
   "outputs": [],
   "source": [
    "word_definitions = dict()"
   ]
  },
  {
   "cell_type": "code",
   "execution_count": 4,
   "metadata": {},
   "outputs": [],
   "source": [
    "word_definitions['doe'] = 'A female deer'\n",
    "word_definitions['ray'] = 'A drop of golden sun'\n",
    "word_definitions['me'] = 'A name I call myself'\n",
    "word_definitions['fa'] = 'A long long way to run'\n",
    "word_definitions['sew'] = 'A needle pulling thread'\n",
    "word_definitions['la'] = 'A note to follow sew'\n",
    "word_definitions['tea'] = 'A drink with jam and bread'"
   ]
  },
  {
   "cell_type": "code",
   "execution_count": 9,
   "metadata": {},
   "outputs": [
    {
     "name": "stdout",
     "output_type": "stream",
     "text": [
      "A female deer\n",
      "\n",
      "A long long way to run\n"
     ]
    }
   ],
   "source": [
    "print(word_definitions['doe'])\n",
    "print()\n",
    "print(word_definitions['fa'])"
   ]
  },
  {
   "cell_type": "code",
   "execution_count": 13,
   "metadata": {},
   "outputs": [
    {
     "name": "stdout",
     "output_type": "stream",
     "text": [
      "The definition of \"doe\" is \"A female deer\"\n",
      "The definition of \"ray\" is \"A drop of golden sun\"\n",
      "The definition of \"me\" is \"A name I call myself\"\n",
      "The definition of \"fa\" is \"A long long way to run\"\n",
      "The definition of \"sew\" is \"A needle pulling thread\"\n",
      "The definition of \"la\" is \"A note to follow sew\"\n",
      "The definition of \"tea\" is \"A drink with jam and bread\"\n"
     ]
    }
   ],
   "source": [
    "for word, definition in word_definitions.items():\n",
    "    print(f'The definition of \"{word}\" is \"{definition}\"')"
   ]
  }
 ],
 "metadata": {
  "kernelspec": {
   "display_name": "Python 3",
   "language": "python",
   "name": "python3"
  },
  "language_info": {
   "codemirror_mode": {
    "name": "ipython",
    "version": 3
   },
   "file_extension": ".py",
   "mimetype": "text/x-python",
   "name": "python",
   "nbconvert_exporter": "python",
   "pygments_lexer": "ipython3",
   "version": "3.7.6"
  }
 },
 "nbformat": 4,
 "nbformat_minor": 2
}
