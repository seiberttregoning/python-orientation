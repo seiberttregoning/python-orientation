{
 "cells": [
  {
   "cell_type": "markdown",
   "metadata": {},
   "source": [
    "# Sets\n",
    "\n",
    "A set is a collection of things, like a list, but the collection is both unordered, and contains no duplicate elements. \n",
    "\n",
    "## General Syntax\n",
    "\n",
    "```python\n",
    "my_numbers = {1, 2, 3, 4}\n",
    "my_letters = {'a', 'b', 'c', 'd'}\n",
    "```\n",
    "\n",
    "Sets are recognizable by their **_curly braces_**, like a **_dictionary_**.\n",
    "Lists have **_square brackets_**, tuples have **_parenthesis_**, sets have **_curly braces_**.\n",
    "\n",
    "The syntactical difference between a set and a dictionary is that sets do not have _keys_ and _values_ , only _values_.\n",
    "\n",
    "```python\n",
    "my_set = {1, 2, 3, 4}\n",
    "my_dictionary = {'key_1': 1, 'key_2': 2, 'key_3': 3, 'key_4': 4}\n",
    "```"
   ]
  },
  {
   "cell_type": "markdown",
   "metadata": {},
   "source": [
    "### YOUR TURN\n",
    "\n",
    "* Create a set for _boolean_ values (True and False)\n",
    "* Create another set for even numbers through ten.\n",
    "* Then, print them out. \n",
    "* Print out the type!"
   ]
  },
  {
   "cell_type": "code",
   "execution_count": 1,
   "metadata": {},
   "outputs": [],
   "source": [
    "bool_set = {True, False}"
   ]
  },
  {
   "cell_type": "code",
   "execution_count": 3,
   "metadata": {},
   "outputs": [],
   "source": [
    "evens_set = {2, 4, 6, 8, 10}"
   ]
  },
  {
   "cell_type": "code",
   "execution_count": 5,
   "metadata": {},
   "outputs": [
    {
     "name": "stdout",
     "output_type": "stream",
     "text": [
      "{False, True}\n",
      "<class 'set'>\n"
     ]
    }
   ],
   "source": [
    "print(bool_set)\n",
    "print(type(bool_set))"
   ]
  },
  {
   "cell_type": "code",
   "execution_count": 6,
   "metadata": {},
   "outputs": [
    {
     "name": "stdout",
     "output_type": "stream",
     "text": [
      "{2, 4, 6, 8, 10}\n",
      "<class 'set'>\n"
     ]
    }
   ],
   "source": [
    "print(evens_set)\n",
    "print(type(evens_set))"
   ]
  },
  {
   "cell_type": "code",
   "execution_count": 7,
   "metadata": {},
   "outputs": [],
   "source": [
    "test_set = {10, 9, 8, 7}"
   ]
  },
  {
   "cell_type": "code",
   "execution_count": 8,
   "metadata": {},
   "outputs": [
    {
     "name": "stdout",
     "output_type": "stream",
     "text": [
      "{8, 9, 10, 7}\n"
     ]
    }
   ],
   "source": [
    "print(test_set)"
   ]
  },
  {
   "cell_type": "markdown",
   "metadata": {},
   "source": [
    "---\n",
    "\n",
    "## Why use a set?\n",
    "\n",
    "There are a few reasons why you might want to use a set!\n",
    "\n",
    "### 1. Keeping track of _distinct_ values. \n",
    "\n",
    "What are all the unique names in a class?\n",
    "What are the different categories that show up in a collection of things?\n",
    "\n",
    "Let's do an example. "
   ]
  },
  {
   "cell_type": "code",
   "execution_count": 9,
   "metadata": {},
   "outputs": [],
   "source": [
    "class_names = [\n",
    "    'steve',\n",
    "    'ann',\n",
    "    'carol',\n",
    "    'steve',\n",
    "    'bridgette',\n",
    "    'sam',\n",
    "    'kyle'\n",
    "]"
   ]
  },
  {
   "cell_type": "code",
   "execution_count": 10,
   "metadata": {},
   "outputs": [
    {
     "name": "stdout",
     "output_type": "stream",
     "text": [
      "7\n"
     ]
    }
   ],
   "source": [
    "# How many students are in the class?\n",
    "\n",
    "class_size = len(class_names)\n",
    "print(class_size)"
   ]
  },
  {
   "cell_type": "code",
   "execution_count": 11,
   "metadata": {},
   "outputs": [
    {
     "name": "stdout",
     "output_type": "stream",
     "text": [
      "6\n"
     ]
    }
   ],
   "source": [
    "# How many distinct students are in the class?\n",
    "\n",
    "distinct_names = set(class_names)\n",
    "distinct_names_size = len(distinct_names)\n",
    "print(distinct_names_size)"
   ]
  },
  {
   "cell_type": "markdown",
   "metadata": {},
   "source": [
    "--- \n",
    "\n",
    "### YOUR TURN\n",
    "\n",
    "* Create a list of colors! Make sure there are some duplicate values. \n",
    "* Print out the size of the color list.\n",
    "* Convert your color list to a color set.\n",
    "* Print out the size again\n",
    "* Print out the values of your new set"
   ]
  },
  {
   "cell_type": "code",
   "execution_count": 12,
   "metadata": {},
   "outputs": [],
   "source": [
    "color_list = ['red', 'red', 'red', 'orange', 'yellow', 'green', 'blue', 'indigo', 'violet']"
   ]
  },
  {
   "cell_type": "code",
   "execution_count": 13,
   "metadata": {},
   "outputs": [
    {
     "name": "stdout",
     "output_type": "stream",
     "text": [
      "['red', 'red', 'red', 'orange', 'yellow', 'green', 'blue', 'indigo', 'violet']\n"
     ]
    }
   ],
   "source": [
    "print(color_list)"
   ]
  },
  {
   "cell_type": "code",
   "execution_count": 14,
   "metadata": {},
   "outputs": [
    {
     "name": "stdout",
     "output_type": "stream",
     "text": [
      "9\n"
     ]
    }
   ],
   "source": [
    "print(len(color_list))"
   ]
  },
  {
   "cell_type": "code",
   "execution_count": 15,
   "metadata": {},
   "outputs": [],
   "source": [
    "color_set = set(color_list)"
   ]
  },
  {
   "cell_type": "code",
   "execution_count": 16,
   "metadata": {},
   "outputs": [
    {
     "name": "stdout",
     "output_type": "stream",
     "text": [
      "7\n"
     ]
    }
   ],
   "source": [
    "print(len(color_set))"
   ]
  },
  {
   "cell_type": "code",
   "execution_count": 17,
   "metadata": {},
   "outputs": [
    {
     "name": "stdout",
     "output_type": "stream",
     "text": [
      "{'orange', 'indigo', 'blue', 'red', 'violet', 'yellow', 'green'}\n"
     ]
    }
   ],
   "source": [
    "print(color_set)"
   ]
  },
  {
   "cell_type": "markdown",
   "metadata": {},
   "source": [
    "--- \n",
    "\n",
    "### 2. Performing Set Operations!\n",
    "\n",
    "Remember talking about set operations in SQL??\n",
    "Python sets have the same functionality.\n",
    "Here's a quick refresher.\n",
    "\n",
    "![Set Operations](./images/set_operations.png)"
   ]
  },
  {
   "cell_type": "markdown",
   "metadata": {},
   "source": [
    "---\n",
    "\n",
    "## Union\n",
    "\n",
    "![Union](images/union.png)\n",
    "\n",
    "Unions are used to _combine_ two or more sets! \n",
    "You would use this when you want to find the shared values between collections.\n",
    "\n",
    "There are a couple ways to perform a union using sets."
   ]
  },
  {
   "cell_type": "code",
   "execution_count": 19,
   "metadata": {},
   "outputs": [],
   "source": [
    "set_1 = {1, 2, 3, 4}\n",
    "set_2 = {3, 4, 5, 6}"
   ]
  },
  {
   "cell_type": "markdown",
   "metadata": {},
   "source": [
    "First way! \n",
    "With the `.union()` method."
   ]
  },
  {
   "cell_type": "code",
   "execution_count": 20,
   "metadata": {},
   "outputs": [
    {
     "name": "stdout",
     "output_type": "stream",
     "text": [
      "{1, 2, 3, 4, 5, 6}\n"
     ]
    }
   ],
   "source": [
    "union_set = set_1.union(set_2)\n",
    "print(union_set)"
   ]
  },
  {
   "cell_type": "markdown",
   "metadata": {},
   "source": [
    "The other way!\n",
    "Use the `|` character.\n",
    "Kind of weird, but saves from some typing!"
   ]
  },
  {
   "cell_type": "code",
   "execution_count": 21,
   "metadata": {},
   "outputs": [
    {
     "name": "stdout",
     "output_type": "stream",
     "text": [
      "{1, 2, 3, 4, 5, 6}\n"
     ]
    }
   ],
   "source": [
    "union_set = set_1 | set_2\n",
    "print(union_set)"
   ]
  },
  {
   "cell_type": "markdown",
   "metadata": {},
   "source": [
    "---\n",
    "\n",
    "## Intersection\n",
    "\n",
    "![Union](images/intersection.png)\n",
    "\n",
    "Intersections are used to find the values common to the sets involved.\n",
    "\n",
    "Like unions, there are a couple ways to perform a union using sets."
   ]
  },
  {
   "cell_type": "code",
   "execution_count": 22,
   "metadata": {},
   "outputs": [],
   "source": [
    "set_1 = {1, 2, 3, 4}\n",
    "set_2 = {3, 4, 5, 6}"
   ]
  },
  {
   "cell_type": "markdown",
   "metadata": {},
   "source": [
    "First way! \n",
    "With the `.intersection()` method."
   ]
  },
  {
   "cell_type": "code",
   "execution_count": 23,
   "metadata": {},
   "outputs": [
    {
     "name": "stdout",
     "output_type": "stream",
     "text": [
      "{3, 4}\n"
     ]
    }
   ],
   "source": [
    "intersection_set = set_1.intersection(set_2)\n",
    "print(intersection_set)"
   ]
  },
  {
   "cell_type": "markdown",
   "metadata": {},
   "source": [
    "The other way!\n",
    "Use the `&` character.\n",
    "Kind of weird, but saves from some typing!"
   ]
  },
  {
   "cell_type": "code",
   "execution_count": 24,
   "metadata": {},
   "outputs": [
    {
     "name": "stdout",
     "output_type": "stream",
     "text": [
      "{3, 4}\n"
     ]
    }
   ],
   "source": [
    "intersection_set = set_1 & set_2\n",
    "print(intersection_set)"
   ]
  },
  {
   "cell_type": "markdown",
   "metadata": {},
   "source": [
    "---\n",
    "\n",
    "## Difference\n",
    "\n",
    "![Union](images/difference.png)\n",
    "\n",
    "Difference is used to find elements in \"the left\" set, but not in the \"right set\"."
   ]
  },
  {
   "cell_type": "code",
   "execution_count": 25,
   "metadata": {},
   "outputs": [],
   "source": [
    "left_set = {1, 2, 3, 4}\n",
    "right_set = {3, 4, 5, 6}"
   ]
  },
  {
   "cell_type": "markdown",
   "metadata": {},
   "source": [
    "First way! \n",
    "With the `.difference()` method."
   ]
  },
  {
   "cell_type": "code",
   "execution_count": 26,
   "metadata": {},
   "outputs": [
    {
     "name": "stdout",
     "output_type": "stream",
     "text": [
      "{1, 2}\n"
     ]
    }
   ],
   "source": [
    "difference_set = left_set.difference(right_set)\n",
    "print(difference_set)"
   ]
  },
  {
   "cell_type": "markdown",
   "metadata": {},
   "source": [
    "The other way!\n",
    "Use the `-` character."
   ]
  },
  {
   "cell_type": "code",
   "execution_count": 27,
   "metadata": {},
   "outputs": [
    {
     "name": "stdout",
     "output_type": "stream",
     "text": [
      "{1, 2}\n"
     ]
    }
   ],
   "source": [
    "difference_set = left_set - right_set\n",
    "print(difference_set)"
   ]
  },
  {
   "cell_type": "markdown",
   "metadata": {},
   "source": [
    "---\n",
    "\n",
    "## Symmetric Difference\n",
    "\n",
    "![Symmetric Difference](images/symmetric_difference.png)\n",
    "\n",
    "This is the opposite of intersection. \n",
    "Values in either the \"left set\" or the \"right set\", but not both. "
   ]
  },
  {
   "cell_type": "code",
   "execution_count": 28,
   "metadata": {},
   "outputs": [],
   "source": [
    "left_set = {1, 2, 3, 4}\n",
    "right_set = {3, 4, 5, 6}"
   ]
  },
  {
   "cell_type": "markdown",
   "metadata": {},
   "source": [
    "First way! \n",
    "With the `.symmetric_difference()` method."
   ]
  },
  {
   "cell_type": "code",
   "execution_count": 30,
   "metadata": {},
   "outputs": [
    {
     "name": "stdout",
     "output_type": "stream",
     "text": [
      "{1, 2, 5, 6}\n"
     ]
    }
   ],
   "source": [
    "difference_set = left_set.symmetric_difference(right_set)\n",
    "print(difference_set)"
   ]
  },
  {
   "cell_type": "markdown",
   "metadata": {},
   "source": [
    "The other way!\n",
    "Use the `^` character."
   ]
  },
  {
   "cell_type": "code",
   "execution_count": 31,
   "metadata": {},
   "outputs": [
    {
     "name": "stdout",
     "output_type": "stream",
     "text": [
      "{1, 2, 5, 6}\n"
     ]
    }
   ],
   "source": [
    "difference_set = left_set ^ right_set\n",
    "print(difference_set)"
   ]
  },
  {
   "cell_type": "markdown",
   "metadata": {},
   "source": [
    "---\n",
    "\n",
    "### YOUR TURN\n",
    "\n",
    "* Create 2 sets. \n",
    "One with all even numbers between 1 and 10, and the other as all prime numbers between 1 and 10.\n",
    "* Print out the union between the two.\n",
    "* Print the intersection.\n",
    "* Print the difference..\n",
    "* Print the symmetric difference!"
   ]
  },
  {
   "cell_type": "code",
   "execution_count": 32,
   "metadata": {},
   "outputs": [],
   "source": [
    "set1 = {2, 4, 6, 8, 10}\n",
    "set2 = {2, 3, 5, 7}"
   ]
  },
  {
   "cell_type": "code",
   "execution_count": 35,
   "metadata": {},
   "outputs": [
    {
     "name": "stdout",
     "output_type": "stream",
     "text": [
      "Union =  {2, 3, 4, 5, 6, 7, 8, 10}\n"
     ]
    }
   ],
   "source": [
    "print('Union = ', set1.union(set2))"
   ]
  },
  {
   "cell_type": "code",
   "execution_count": 34,
   "metadata": {},
   "outputs": [
    {
     "name": "stdout",
     "output_type": "stream",
     "text": [
      "Intersection =  {2}\n"
     ]
    }
   ],
   "source": [
    "print('Intersection = ', set1 & set2)"
   ]
  },
  {
   "cell_type": "code",
   "execution_count": 41,
   "metadata": {},
   "outputs": [
    {
     "name": "stdout",
     "output_type": "stream",
     "text": [
      "Difference: Evens - Primes =  {8, 10, 4, 6}\n",
      "Difference: Primes - Evens =  {3, 5, 7}\n"
     ]
    }
   ],
   "source": [
    "print('Difference: Evens - Primes = ', set1 - set2)\n",
    "print('Difference: Primes - Evens = ', set2 - set1)"
   ]
  },
  {
   "cell_type": "code",
   "execution_count": 37,
   "metadata": {},
   "outputs": [
    {
     "name": "stdout",
     "output_type": "stream",
     "text": [
      "Symmetric Difference =  {3, 4, 5, 6, 7, 8, 10}\n"
     ]
    }
   ],
   "source": [
    "print('Symmetric Difference = ', set1 ^ set2)"
   ]
  },
  {
   "cell_type": "markdown",
   "metadata": {},
   "source": [
    "### More references on Sets\n",
    "\n",
    "* [Python sets](https://docs.python.org/3.6/tutorial/datastructures.html#sets)\n",
    "* [Set intersection](https://docs.python.org/3.6/library/stdtypes.html?highlight=intersection#set.intersection)"
   ]
  },
  {
   "cell_type": "markdown",
   "metadata": {},
   "source": [
    "<hr>\n",
    "\n",
    "## Set Methods - some docs [here](https://www.w3schools.com/python/python_ref_set.asp)\n",
    "\n",
    "Just like lists, sets also have _methods_ that we can use.\n",
    "\n",
    "* `add` - Adds an element to the set\n",
    "* `clear` - Removes all elements from a set\n",
    "* `remove` - Removes a specified element from the set\n",
    "* `pop` - Removes and returns a single element from the set\n",
    "\n",
    "Plus.. \n",
    "All of the [set operations](https://docs.python.org/2/library/sets.html#set-objects) we talked about before!"
   ]
  },
  {
   "cell_type": "code",
   "execution_count": 42,
   "metadata": {},
   "outputs": [
    {
     "name": "stdout",
     "output_type": "stream",
     "text": [
      "{1, 2, 3, 4, 5}\n",
      "After adding --->  {1, 2, 3, 4, 5, 6}\n",
      "After removing -->  {1, 2, 3, 4, 5}\n",
      "Popped! -->  1\n",
      "Set after popped -->  {2, 3, 4, 5}\n",
      "All gone! -->  set()\n"
     ]
    }
   ],
   "source": [
    "my_set = {1, 2, 3, 4, 5}\n",
    "print(my_set)\n",
    "\n",
    "my_set.add(6)\n",
    "print('After adding ---> ', my_set)\n",
    "\n",
    "my_set.remove(6)\n",
    "print('After removing --> ', my_set)\n",
    "\n",
    "value = my_set.pop()\n",
    "print('Popped! --> ', value)\n",
    "print('Set after popped --> ', my_set)\n",
    "\n",
    "my_set.clear()\n",
    "print('All gone! --> ', my_set)"
   ]
  },
  {
   "cell_type": "markdown",
   "metadata": {},
   "source": [
    "<hr>\n",
    "\n",
    "### YOUR TURN\n",
    "\n",
    "* Create an empty set named `showroom`.\n",
    "* Add four of your favorite car model names to the set.\n",
    "* Print the length of your set.\n",
    "* Pick one of the items in your show room and add it to the set again.\n",
    "* Print your showroom. Notice how there's still only one instance of that model in there.\n",
    "* Using `update()`, add two more car models to your showroom with another set.\n",
    "* You've sold one of your cars. Remove it from the set with the `discard()` method."
   ]
  },
  {
   "cell_type": "code",
   "execution_count": 53,
   "metadata": {},
   "outputs": [],
   "source": [
    "showroom = set()"
   ]
  },
  {
   "cell_type": "code",
   "execution_count": 56,
   "metadata": {},
   "outputs": [],
   "source": [
    "showroom.add('corolla')\n",
    "showroom.add('camry')\n",
    "showroom.add('avalon')\n",
    "showroom.add('yaris')"
   ]
  },
  {
   "cell_type": "code",
   "execution_count": 57,
   "metadata": {},
   "outputs": [
    {
     "name": "stdout",
     "output_type": "stream",
     "text": [
      "Showroom length =  4\n"
     ]
    }
   ],
   "source": [
    "print('Showroom length = ', len(showroom))"
   ]
  },
  {
   "cell_type": "code",
   "execution_count": 58,
   "metadata": {},
   "outputs": [],
   "source": [
    "showroom.add('corolla')"
   ]
  },
  {
   "cell_type": "code",
   "execution_count": 59,
   "metadata": {},
   "outputs": [
    {
     "name": "stdout",
     "output_type": "stream",
     "text": [
      "Showroom =  {'yaris', 'camry', 'corolla', 'avalon'}\n"
     ]
    }
   ],
   "source": [
    "print('Showroom = ', showroom)"
   ]
  },
  {
   "cell_type": "code",
   "execution_count": 60,
   "metadata": {},
   "outputs": [],
   "source": [
    "new_cars = {'rav4', '4 runner'}"
   ]
  },
  {
   "cell_type": "code",
   "execution_count": 61,
   "metadata": {},
   "outputs": [],
   "source": [
    "showroom.update(new_cars)"
   ]
  },
  {
   "cell_type": "code",
   "execution_count": 62,
   "metadata": {},
   "outputs": [
    {
     "name": "stdout",
     "output_type": "stream",
     "text": [
      "Showroom =  {'camry', 'avalon', '4 runner', 'yaris', 'rav4', 'corolla'}\n"
     ]
    }
   ],
   "source": [
    "print(\"Showroom = \", showroom)"
   ]
  },
  {
   "cell_type": "code",
   "execution_count": 63,
   "metadata": {},
   "outputs": [
    {
     "name": "stdout",
     "output_type": "stream",
     "text": [
      "Showroom =  {'camry', 'avalon', 'yaris', 'rav4', 'corolla'}\n"
     ]
    }
   ],
   "source": [
    "showroom.discard('4 runner')\n",
    "print(\"Showroom = \", showroom)"
   ]
  },
  {
   "cell_type": "code",
   "execution_count": 64,
   "metadata": {},
   "outputs": [
    {
     "ename": "KeyError",
     "evalue": "'4 runner'",
     "output_type": "error",
     "traceback": [
      "\u001b[1;31m---------------------------------------------------------------------------\u001b[0m",
      "\u001b[1;31mKeyError\u001b[0m                                  Traceback (most recent call last)",
      "\u001b[1;32m<ipython-input-64-d5167e6a00a2>\u001b[0m in \u001b[0;36m<module>\u001b[1;34m\u001b[0m\n\u001b[1;32m----> 1\u001b[1;33m \u001b[0mshowroom\u001b[0m\u001b[1;33m.\u001b[0m\u001b[0mremove\u001b[0m\u001b[1;33m(\u001b[0m\u001b[1;34m'4 runner'\u001b[0m\u001b[1;33m)\u001b[0m\u001b[1;33m\u001b[0m\u001b[1;33m\u001b[0m\u001b[0m\n\u001b[0m",
      "\u001b[1;31mKeyError\u001b[0m: '4 runner'"
     ]
    }
   ],
   "source": [
    "showroom.remove('4 runner')"
   ]
  },
  {
   "cell_type": "code",
   "execution_count": 65,
   "metadata": {},
   "outputs": [],
   "source": [
    "showroom.discard('4 runner')"
   ]
  },
  {
   "cell_type": "markdown",
   "metadata": {},
   "source": [
    "<hr>\n",
    "\n",
    "### YOUR TURN.. AGAIN!\n",
    "\n",
    "1. Now create another set of cars in a variable `junkyard`. Someone who owns a junkyard full of old cars has approached you about buying the entire inventory. In the new set, add some different cars, but also add a few that are the same as in the `showroom` set.\n",
    "1. Use the `intersection` method to see which cars exist in both the showroom and that junkyard.\n",
    "1. Now you're ready to buy the cars in the junkyard. Use the `union` method to combine the junkyard into your showroom.\n",
    "1. Use the `discard()` method to remove any cars that you acquired from the junkyard that you do not want in your showroom."
   ]
  },
  {
   "cell_type": "code",
   "execution_count": 66,
   "metadata": {},
   "outputs": [],
   "source": [
    "junkyard = {\n",
    "    'corolla',\n",
    "    'camry',\n",
    "    'outback',\n",
    "    'sorento',\n",
    "    'optima',\n",
    "    'focus'\n",
    "}"
   ]
  },
  {
   "cell_type": "code",
   "execution_count": 67,
   "metadata": {},
   "outputs": [
    {
     "name": "stdout",
     "output_type": "stream",
     "text": [
      "junkyard =  {'sorento', 'camry', 'optima', 'corolla', 'focus', 'outback'}\n"
     ]
    }
   ],
   "source": [
    "print('junkyard = ', junkyard)"
   ]
  },
  {
   "cell_type": "code",
   "execution_count": 70,
   "metadata": {},
   "outputs": [
    {
     "name": "stdout",
     "output_type": "stream",
     "text": [
      "Showroom and junkyard intersection =  {'camry', 'corolla'}\n"
     ]
    }
   ],
   "source": [
    "print('Showroom and junkyard intersection = ', showroom.intersection(junkyard))"
   ]
  },
  {
   "cell_type": "code",
   "execution_count": 73,
   "metadata": {
    "scrolled": true
   },
   "outputs": [
    {
     "name": "stdout",
     "output_type": "stream",
     "text": [
      "Showroom and junkyard union =  {'sorento', 'yaris', 'rav4', 'camry', 'avalon', 'optima', 'corolla', 'focus', 'outback'}\n"
     ]
    }
   ],
   "source": [
    "showroom = showroom.union(junkyard)\n",
    "print('Showroom and junkyard union = ', showroom)"
   ]
  },
  {
   "cell_type": "code",
   "execution_count": 76,
   "metadata": {
    "scrolled": false
   },
   "outputs": [
    {
     "name": "stdout",
     "output_type": "stream",
     "text": [
      "{'sorento', 'yaris', 'rav4', 'camry', 'avalon', 'corolla', 'outback'}\n"
     ]
    }
   ],
   "source": [
    "showroom.discard('optima')\n",
    "showroom.discard('focus')\n",
    "print(showroom)"
   ]
  }
 ],
 "metadata": {
  "kernelspec": {
   "display_name": "Python 3",
   "language": "python",
   "name": "python3"
  },
  "language_info": {
   "codemirror_mode": {
    "name": "ipython",
    "version": 3
   },
   "file_extension": ".py",
   "mimetype": "text/x-python",
   "name": "python",
   "nbconvert_exporter": "python",
   "pygments_lexer": "ipython3",
   "version": "3.7.6"
  }
 },
 "nbformat": 4,
 "nbformat_minor": 2
}
