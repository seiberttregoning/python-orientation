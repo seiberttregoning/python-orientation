{
 "cells": [
  {
   "cell_type": "markdown",
   "metadata": {},
   "source": [
    "# Functions\n",
    "\n",
    "A function is a block of organized, reusable code that is used to perform a single, related action. \n",
    "Functions provide better modularity for your application and a high degree of code reusing.\n",
    "\n",
    "Remember saying `print('Print!')`??  \n",
    "`print` is a function that we have been using up until now.\n",
    "\n",
    "Remember `SUM()`, `MAX()`, `MIN()` in SQL?\n",
    "All if those are also functions. \n",
    "They will generally take an input, do something with it, and return a new value.\n",
    "\n",
    "### General syntax: \n",
    "\n",
    "```python\n",
    "def function_name( parameters ):\n",
    "   \"\"\"function_docstring\"\"\"\n",
    "   function_suite\n",
    "   return [expression]\n",
    "```\n",
    "\n",
    "* Function blocks begin with the keyword `def` (define) followed by the function name and parentheses ( `( )` ).\n",
    "* If your function requires some sort of input to be able to do it's job, you would place these within the parenthesis. \n",
    "These parameters (such as the `parameters` value in our example) are only placeholders that will represent something else when the function is being used.\n",
    "* The first statement of a function can be an optional statement - the documentation string of the function or `docstring`.\n",
    "In our example, the docstring is the comment within the triple quotes, `\"\"\"`\n",
    "* The `function_suite` is the place where you write code to do some sort of functionality.\n",
    "* The statement `return [expression]` exits a function, optionally passing back an expression or value to the caller. \n",
    "A return statement with value is the same as return `None`.\n",
    "\n",
    "\n",
    "**WHITE SPACE MATTERS**  \n",
    "If you do not use appropriate whitespace, your code won't work. \n",
    "When writing a function You must indent the contents of the function (4 spaces).\n",
    "\n",
    "Let's look at a function that will create a person."
   ]
  },
  {
   "cell_type": "code",
   "execution_count": 1,
   "metadata": {},
   "outputs": [],
   "source": [
    "def create_person(first_name, last_name, age, occupation):\n",
    "    \"\"\"Return a dictionary that represents a person.\"\"\"\n",
    "    person = {\n",
    "        \"first_name\": first_name,\n",
    "        \"last_name\": last_name,\n",
    "        \"age\": age,\n",
    "        \"occupation\": occupation,\n",
    "    }\n",
    "    \n",
    "    return person\n",
    "\n",
    "melissa = create_person(\"Melissa\", \"Bell\", 25, \"Data Analyst\")"
   ]
  },
  {
   "cell_type": "code",
   "execution_count": 2,
   "metadata": {},
   "outputs": [
    {
     "name": "stdout",
     "output_type": "stream",
     "text": [
      "{'first_name': 'Melissa', 'last_name': 'Bell', 'age': 25, 'occupation': 'Data Analyst'}\n"
     ]
    }
   ],
   "source": [
    "print(melissa)"
   ]
  },
  {
   "cell_type": "code",
   "execution_count": 11,
   "metadata": {},
   "outputs": [],
   "source": [
    "seibert = create_person('Seibert', 'Tregoning', 35, 'Clinical Researcher')"
   ]
  },
  {
   "cell_type": "code",
   "execution_count": 12,
   "metadata": {},
   "outputs": [
    {
     "name": "stdout",
     "output_type": "stream",
     "text": [
      "{'first_name': 'Seibert', 'last_name': 'Tregoning', 'age': 35, 'occupation': 'Clinical Researcher'}\n",
      "{'first_name': 'Melissa', 'last_name': 'Bell', 'age': 25, 'occupation': 'Data Analyst'}\n"
     ]
    }
   ],
   "source": [
    "print(seibert) \n",
    "print(melissa)"
   ]
  },
  {
   "cell_type": "markdown",
   "metadata": {},
   "source": [
    "### Breaking it down\n",
    "\n",
    "* The function `create_person` starts with the `def` keyword.\n",
    "* The _name_ of the function is `create_person`.\n",
    "Note that it is all _lowercase_ , and words are separated by an _underscore_.\n",
    "Take a peek [here](https://www.python.org/dev/peps/pep-0008/#function-and-variable-names) to learn about how to come up with names for your code.\n",
    "* `create_person` accepts 4 _parameters_ as input: `first_name, last_name, age, occupation`.\n",
    "The trick here is to understand that these parameters haven't been defined yet. \n",
    "They are simply placeholders!\n",
    "* Note the colon at the end of the first line! \n",
    "This is important.\n",
    "* The next line is the docstring. \n",
    "This helps describe the function at a high level.\n",
    "Note the indent!\n",
    "* For our `function_suite`, we are just creating a dictionary and assigning it to a variable, `person`.\n",
    "* Lastly, our return!\n",
    "The `[expression]` that we are returning is the person we just created!\n",
    "\n",
    "### Calling the function\n",
    "```python\n",
    "melissa = create_person(\"Melissa\", \"Bell\", 25, \"Data Analyst\")\n",
    "```\n",
    "Regarding function parameters, order matters. \n",
    "The function defined 4 parameters (`first_name, last_name, age, occupation`) that must be provided when called. \n",
    "So, mapping it out..\n",
    "* `first_name`: \"Melissa\"\n",
    "* `last_name`: \"Bell\"\n",
    "* `age`: 25\n",
    "* `occupation`: \"Data Analyst\""
   ]
  },
  {
   "cell_type": "markdown",
   "metadata": {},
   "source": [
    "### YOUR TURN\n",
    "\n",
    "Create a function named `greeting` that takes a name as an argument and returns a greeting that uses the name.\n",
    "For example, if we used 'Taylor' as the name, our function could return:\n",
    "```\n",
    "Hello, my name is Taylor.\n",
    "```"
   ]
  },
  {
   "cell_type": "code",
   "execution_count": 16,
   "metadata": {},
   "outputs": [],
   "source": [
    "def greeting(argument):\n",
    "    \"\"\"This function returns a stock greeting\"\"\"\n",
    "    text = 'Hello, my name is ' + argument\n",
    "    return text"
   ]
  },
  {
   "cell_type": "code",
   "execution_count": 18,
   "metadata": {},
   "outputs": [
    {
     "name": "stdout",
     "output_type": "stream",
     "text": [
      "Hello, my name is Seibert\n"
     ]
    }
   ],
   "source": [
    "# run this cell to make sure it's working how you are expecting.\n",
    "my_greeting = greeting('Seibert')\n",
    "print(my_greeting)"
   ]
  },
  {
   "cell_type": "markdown",
   "metadata": {},
   "source": [
    "<hr>\n",
    "\n",
    "### YOUR TURN... AGAIN!\n",
    "\n",
    "#### Side Note:\n",
    "Functions _don't have to return anything_.\n",
    "You can create a function that just does something, without passing anything back to the caller.\n",
    "\n",
    "Define four Python functions named `run`, `swing`, `slide`, and `hide_and_seek`. \n",
    "Each function should take a child's name as an argument. \n",
    "Each function should print that the child performed the activity.\n",
    "\n",
    "For example, `Jay ran like a fool!` or `Chantelle slid down the slide!`.\n",
    "\n",
    "The following lists of children should be iterated, and the names sent to the appropriate functions."
   ]
  },
  {
   "cell_type": "code",
   "execution_count": 20,
   "metadata": {},
   "outputs": [],
   "source": [
    "running_kids = [\"Pam\", \"Sam\", \"Andrea\", \"Will\"]\n",
    "swinging_kids = [\"Marybeth\", \"Jenna\", \"Kevin\", \"Courtney\"]\n",
    "sliding_kids = [\"Mike\", \"Jack\", \"Jennifer\", \"Earl\"]\n",
    "hiding_kids = [\"Henry\", \"Heather\", \"Hayley\", \"Hugh\"]"
   ]
  },
  {
   "cell_type": "code",
   "execution_count": 29,
   "metadata": {},
   "outputs": [],
   "source": [
    "def run(argument):\n",
    "    \"\"\"Takes argument and appends text\"\"\"\n",
    "    text = argument + ' runs so fast!'\n",
    "    return text\n",
    "\n",
    "def swing(argument):\n",
    "    \"\"\"Takes argument and appends text\"\"\"\n",
    "    text = argument + ' swings the bat.'\n",
    "    return text\n",
    "\n",
    "def slide(argument):\n",
    "    \"\"\"Takes argument and appends text\"\"\"\n",
    "    text = argument + ' slides on the ice!'\n",
    "    return text\n",
    "\n",
    "def hide_and_seek(argument):\n",
    "    \"\"\"Takes argument and appends text\"\"\"\n",
    "    text = argument + ' looks for hiders.'\n",
    "    return text"
   ]
  },
  {
   "cell_type": "code",
   "execution_count": 30,
   "metadata": {
    "scrolled": true
   },
   "outputs": [
    {
     "name": "stdout",
     "output_type": "stream",
     "text": [
      "Pam runs so fast!\n",
      "Sam runs so fast!\n",
      "Andrea runs so fast!\n",
      "Will runs so fast!\n",
      "\n",
      "Marybeth swings the bat.\n",
      "Jenna swings the bat.\n",
      "Kevin swings the bat.\n",
      "Courtney swings the bat.\n",
      "\n",
      "Mike slides on the ice!\n",
      "Jack slides on the ice!\n",
      "Jennifer slides on the ice!\n",
      "Earl slides on the ice!\n",
      "\n",
      "Henry looks for hiders.\n",
      "Heather looks for hiders.\n",
      "Hayley looks for hiders.\n",
      "Hugh looks for hiders.\n"
     ]
    }
   ],
   "source": [
    "for kid in running_kids:\n",
    "    print(run(kid))\n",
    "\n",
    "print()\n",
    "    \n",
    "for kid in swinging_kids:\n",
    "    print(swing(kid))\n",
    "    \n",
    "print()\n",
    "    \n",
    "for kid in sliding_kids:\n",
    "    print(slide(kid))\n",
    "    \n",
    "print()\n",
    "    \n",
    "for kid in hiding_kids:\n",
    "    print(hide_and_seek(kid))"
   ]
  },
  {
   "cell_type": "code",
   "execution_count": 28,
   "metadata": {},
   "outputs": [
    {
     "name": "stdout",
     "output_type": "stream",
     "text": [
      "Pam runs so fast!\n",
      "Sam runs so fast!\n",
      "Andrea runs so fast!\n",
      "Will runs so fast!\n",
      "\n",
      "Marybeth swings the bat.\n",
      "Jenna swings the bat.\n",
      "Kevin swings the bat.\n",
      "Courtney swings the bat.\n",
      "\n",
      "Mike slides on the ice!\n",
      "Jack slides on the ice!\n",
      "Jennifer slides on the ice!\n",
      "Earl slides on the ice!\n",
      "\n",
      "Henry looks for hiders.\n",
      "Heather looks for hiders.\n",
      "Hayley looks for hiders.\n",
      "Hugh looks for hiders.\n"
     ]
    }
   ],
   "source": [
    "def run2(argument):\n",
    "    \"\"\"Takes argument and appends text\"\"\"\n",
    "    print(argument + ' runs so fast!')\n",
    "    \n",
    "def swing2(argument):\n",
    "    \"\"\"Takes argument and appends text\"\"\"\n",
    "    print(argument + ' swings the bat.')\n",
    "    \n",
    "\n",
    "def slide2(argument):\n",
    "    \"\"\"Takes argument and appends text\"\"\"\n",
    "    print(argument + ' slides on the ice!')\n",
    "    \n",
    "\n",
    "def hide_and_seek2(argument):\n",
    "    \"\"\"Takes argument and appends text\"\"\"\n",
    "    print(argument + ' looks for hiders.')\n",
    "    \n",
    "for kid in running_kids:\n",
    "    run2(kid)\n",
    "    \n",
    "print()\n",
    "\n",
    "for kid in swinging_kids:\n",
    "    swing2(kid)\n",
    "\n",
    "print()    \n",
    "    \n",
    "for kid in sliding_kids:\n",
    "    slide2(kid)\n",
    "    \n",
    "print()\n",
    "    \n",
    "for kid in hiding_kids:\n",
    "    hide_and_seek2(kid)"
   ]
  }
 ],
 "metadata": {
  "kernelspec": {
   "display_name": "Python 3",
   "language": "python",
   "name": "python3"
  },
  "language_info": {
   "codemirror_mode": {
    "name": "ipython",
    "version": 3
   },
   "file_extension": ".py",
   "mimetype": "text/x-python",
   "name": "python",
   "nbconvert_exporter": "python",
   "pygments_lexer": "ipython3",
   "version": "3.7.6"
  }
 },
 "nbformat": 4,
 "nbformat_minor": 2
}
