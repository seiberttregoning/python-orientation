{
 "cells": [
  {
   "cell_type": "markdown",
   "metadata": {},
   "source": [
    "# Loops\n",
    "\n",
    "Many times in python you will find yourself wanting to do something for every element in a collection. \n",
    "This could be applying some transformation to it, printing something, or anything else!\n",
    "\n",
    "Luckily, python makes this very straightforward for us. \n",
    "\n",
    "## For Loops\n",
    "\n",
    "### General syntax: \n",
    "\n",
    "```python\n",
    "for <element> in <iterator>:\n",
    "    # do something!\n",
    "```\n",
    "\n",
    "Before we think about the `element`, we have to think about the `iterator`. \n",
    "What are we iterating over?\n",
    "The answer to this will determine what each `element` will be.\n",
    "\n",
    "<hr>\n",
    "\n",
    "### Definition - What does Iteration mean?\n",
    "\n",
    "\"**_Iteration_**, in the context of computer programming, is a process wherein a set of instructions or structures are repeated in a sequence a specified number of times or until a condition is met. When the first set of instructions is executed again, it is called an iteration. When a sequence of instructions is executed in a repeated manner, it is called a loop.\"\n",
    "Source: https://www.techopedia.com/definition/3821/iteration\n",
    "\n",
    "#### When we iterate over something....\n",
    "We are performing a specific task a specific number of times based on the \"iterator\".\n",
    "\n",
    "\n",
    "<hr>\n",
    "\n",
    "## `Element` by `Type` of `Iterator`\n",
    "\n",
    "* `Lists` - element is each **_value_**\n",
    "* `Dictionaries` - element is each **_key_**\n",
    "    * Use `<dictionary>.values()` as the `iterator` to get all the **_values_**\n",
    "    * Use `<dictionary>.keys()` as the `iterator` to get all the **_keys_**\n",
    "    * Use `<dictionary>.items()` as the `iterator` to get all the keys and values as **_tuple pairs_**\n",
    "* `Sets` - element is each **_value_**\n",
    "* `Tuples` - element is each **_value_**\n",
    "\n",
    "<hr>\n",
    "\n",
    "**SPECIAL**  \n",
    "You can use the function **_enumerate_** with your iterator to return both the _index_ and the original value.\n",
    "```python\n",
    "for (ind, <element>) in enumerate(<iterable>):\n",
    "    # do something!\n",
    "```\n"
   ]
  },
  {
   "cell_type": "markdown",
   "metadata": {},
   "source": [
    "### Some Examples"
   ]
  },
  {
   "cell_type": "code",
   "execution_count": 1,
   "metadata": {},
   "outputs": [],
   "source": [
    "my_list = [1, 2, 3]\n",
    "my_dictionary = {'one': 1, 'two': 2, 'three': 3}\n",
    "my_tuple = (4, 5, 6)\n",
    "my_set = {2, 3, 5, 7}"
   ]
  },
  {
   "cell_type": "code",
   "execution_count": 2,
   "metadata": {},
   "outputs": [
    {
     "name": "stdout",
     "output_type": "stream",
     "text": [
      "List value:  1\n",
      "List value:  2\n",
      "List value:  3\n"
     ]
    }
   ],
   "source": [
    "for value in my_list:\n",
    "    print('List value: ', value)"
   ]
  },
  {
   "cell_type": "code",
   "execution_count": 3,
   "metadata": {},
   "outputs": [
    {
     "name": "stdout",
     "output_type": "stream",
     "text": [
      "Tuple value:  4\n",
      "Tuple value:  5\n",
      "Tuple value:  6\n"
     ]
    }
   ],
   "source": [
    "for value in my_tuple:\n",
    "    print('Tuple value: ', value)"
   ]
  },
  {
   "cell_type": "code",
   "execution_count": 4,
   "metadata": {
    "scrolled": true
   },
   "outputs": [
    {
     "name": "stdout",
     "output_type": "stream",
     "text": [
      "Set value:  2\n",
      "Set value:  3\n",
      "Set value:  5\n",
      "Set value:  7\n"
     ]
    }
   ],
   "source": [
    "for value in my_set:\n",
    "    print('Set value: ', value)"
   ]
  },
  {
   "cell_type": "code",
   "execution_count": 5,
   "metadata": {},
   "outputs": [
    {
     "data": {
      "text/plain": [
       "{'one': 1, 'two': 2, 'three': 3}"
      ]
     },
     "execution_count": 5,
     "metadata": {},
     "output_type": "execute_result"
    }
   ],
   "source": [
    "my_dictionary"
   ]
  },
  {
   "cell_type": "code",
   "execution_count": 6,
   "metadata": {},
   "outputs": [
    {
     "name": "stdout",
     "output_type": "stream",
     "text": [
      "Dictionary key:  one\n",
      "Dictionary key:  two\n",
      "Dictionary key:  three\n",
      "\n",
      "Dictionary key:  one\n",
      "Dictionary key:  two\n",
      "Dictionary key:  three\n",
      "\n",
      "Dictionary value:  1\n",
      "Dictionary value:  2\n",
      "Dictionary value:  3\n",
      "\n",
      "Dictionary key/value:  one 1\n",
      "Dictionary key/value:  two 2\n",
      "Dictionary key/value:  three 3\n"
     ]
    }
   ],
   "source": [
    "for key in my_dictionary:\n",
    "    print('Dictionary key: ', key)\n",
    "    \n",
    "print()\n",
    "    \n",
    "for key in my_dictionary.keys():\n",
    "    print('Dictionary key: ', key)\n",
    "    \n",
    "print()\n",
    "    \n",
    "for value in my_dictionary.values():\n",
    "    print('Dictionary value: ', value)\n",
    "    \n",
    "print()\n",
    "    \n",
    "for (key, value) in my_dictionary.items():\n",
    "    print('Dictionary key/value: ', key, value)"
   ]
  },
  {
   "cell_type": "code",
   "execution_count": 7,
   "metadata": {
    "scrolled": true
   },
   "outputs": [
    {
     "name": "stdout",
     "output_type": "stream",
     "text": [
      "Set index/value with enumerate:  0 2\n",
      "Set index/value with enumerate:  1 3\n",
      "Set index/value with enumerate:  2 5\n",
      "Set index/value with enumerate:  3 7\n"
     ]
    }
   ],
   "source": [
    "for (ind, value) in enumerate(my_set):\n",
    "    print('Set index/value with enumerate: ', ind, value)"
   ]
  },
  {
   "cell_type": "code",
   "execution_count": 8,
   "metadata": {
    "scrolled": true
   },
   "outputs": [
    {
     "name": "stdout",
     "output_type": "stream",
     "text": [
      "Set index/value with enumerate:  0 1\n",
      "Set index/value with enumerate:  1 2\n",
      "Set index/value with enumerate:  2 3\n"
     ]
    }
   ],
   "source": [
    "for (ind, value) in enumerate(my_list):\n",
    "    print('Set index/value with enumerate: ', ind, value)"
   ]
  },
  {
   "cell_type": "code",
   "execution_count": 9,
   "metadata": {},
   "outputs": [
    {
     "name": "stdout",
     "output_type": "stream",
     "text": [
      "Set index/value with enumerate:  0 one\n",
      "Set index/value with enumerate:  1 two\n",
      "Set index/value with enumerate:  2 three\n"
     ]
    }
   ],
   "source": [
    "for (ind, value) in enumerate(my_dictionary):\n",
    "    print('Set index/value with enumerate: ', ind, value)"
   ]
  },
  {
   "cell_type": "code",
   "execution_count": 13,
   "metadata": {},
   "outputs": [
    {
     "name": "stdout",
     "output_type": "stream",
     "text": [
      "Set index/value with enumerate:  0 ('one', 1)\n",
      "Set index/value with enumerate:  1 ('two', 2)\n",
      "Set index/value with enumerate:  2 ('three', 3)\n"
     ]
    }
   ],
   "source": [
    "for (key, value) in enumerate(my_dictionary.items()):\n",
    "    print('Set index/value with enumerate: ', key, value)"
   ]
  },
  {
   "cell_type": "markdown",
   "metadata": {},
   "source": [
    "<hr>\n",
    "\n",
    "\n",
    "### YOUR TURN\n",
    "\n",
    "**Create a dictionary of 5 words (keys) and their definitions (values).**"
   ]
  },
  {
   "cell_type": "code",
   "execution_count": 15,
   "metadata": {},
   "outputs": [],
   "source": [
    "word_definitions = dict(\n",
    "    path='A way',\n",
    "    climb='To ascend',\n",
    "    lay='To recline')"
   ]
  },
  {
   "cell_type": "markdown",
   "metadata": {},
   "source": [
    "**Add several more words and their definitions**\n",
    "Example: \n",
    "```python\n",
    "word_definitions[\"Awesome\"] = \"The feeling of students when they are learning Python\"\n",
    "```"
   ]
  },
  {
   "cell_type": "code",
   "execution_count": 16,
   "metadata": {},
   "outputs": [],
   "source": [
    "word_definitions['type'] = 'of a kind'"
   ]
  },
  {
   "cell_type": "markdown",
   "metadata": {},
   "source": [
    "**Use square bracket lookup to get the definition of two words and output them to the console with `print()`**\n",
    "\n",
    "If `Awesome` is a key in your `word_definitions`, you could then write: \n",
    "\n",
    "```python\n",
    "print(word_definitions['Awesome'])\n",
    "```"
   ]
  },
  {
   "cell_type": "code",
   "execution_count": 18,
   "metadata": {},
   "outputs": [
    {
     "name": "stdout",
     "output_type": "stream",
     "text": [
      "To ascend\n",
      "To recline\n"
     ]
    }
   ],
   "source": [
    "print(word_definitions['climb'])\n",
    "print(word_definitions['lay'])"
   ]
  },
  {
   "cell_type": "markdown",
   "metadata": {},
   "source": [
    "**Loop over the dictionary to get the following output:**\n",
    "```\n",
    "The definition of [WORD] is [DEFINITION]\n",
    "The definition of [WORD] is [DEFINITION]\n",
    "The definition of [WORD] is [DEFINITION]\n",
    "```"
   ]
  },
  {
   "cell_type": "code",
   "execution_count": 20,
   "metadata": {},
   "outputs": [
    {
     "name": "stdout",
     "output_type": "stream",
     "text": [
      "The definiation of path is A way\n",
      "The definiation of climb is To ascend\n",
      "The definiation of lay is To recline\n",
      "The definiation of type is of a kind\n"
     ]
    }
   ],
   "source": [
    "for (word, definition) in word_definitions.items():\n",
    "    print('The definiation of', word, 'is', definition)"
   ]
  },
  {
   "cell_type": "markdown",
   "metadata": {},
   "source": [
    "<hr>"
   ]
  },
  {
   "cell_type": "markdown",
   "metadata": {},
   "source": [
    "### YOUR TURN.. AGAIN!\n",
    "\n",
    "Remember this??"
   ]
  },
  {
   "cell_type": "code",
   "execution_count": 21,
   "metadata": {},
   "outputs": [
    {
     "name": "stdout",
     "output_type": "stream",
     "text": [
      "No idea what the name could be!\n"
     ]
    }
   ],
   "source": [
    "name = 'FooBar'\n",
    "\n",
    "if name == 'Foo':\n",
    "    print('First condition met')\n",
    "\n",
    "elif name == 'Bar':\n",
    "    print('Second condition met')\n",
    "\n",
    "else:\n",
    "    print('No idea what the name could be!')"
   ]
  },
  {
   "cell_type": "code",
   "execution_count": 22,
   "metadata": {},
   "outputs": [],
   "source": [
    "primes = [2, 3, 5, 7, 11, 13, 17, 19, 23, 29, 31, 37, 41, 43, 47, 53, 59, 61, 67, 71, 73, 79, 83, 89, 97]"
   ]
  },
  {
   "cell_type": "markdown",
   "metadata": {},
   "source": [
    "* For each prime number..\n",
    "* If.. the number is even, print `Prime [NUMBER] is even!`\n",
    "* Else if.. the number is less than 10, print `Prime [NUMBER] less than 10!`\n",
    "* Else if.. the number is less than 50, print `Prime [NUMBER] less than 50!`\n",
    "* Else.. print `Prime [NUMBER] is really big!`"
   ]
  },
  {
   "cell_type": "code",
   "execution_count": 27,
   "metadata": {},
   "outputs": [
    {
     "name": "stdout",
     "output_type": "stream",
     "text": [
      "Prime 2 is even!\n",
      "Prime 3 is less than 10!\n",
      "Prime 5 is less than 10!\n",
      "Prime 7 is less than 10!\n",
      "Prime 11 is less than 50!\n",
      "Prime 13 is less than 50!\n",
      "Prime 17 is less than 50!\n",
      "Prime 19 is less than 50!\n",
      "Prime 23 is less than 50!\n",
      "Prime 29 is less than 50!\n",
      "Prime 31 is less than 50!\n",
      "Prime 37 is less than 50!\n",
      "Prime 41 is less than 50!\n",
      "Prime 43 is less than 50!\n",
      "Prime 47 is less than 50!\n",
      "Prime 53 is really big!\n",
      "Prime 59 is really big!\n",
      "Prime 61 is really big!\n",
      "Prime 67 is really big!\n",
      "Prime 71 is really big!\n",
      "Prime 73 is really big!\n",
      "Prime 79 is really big!\n",
      "Prime 83 is really big!\n",
      "Prime 89 is really big!\n",
      "Prime 97 is really big!\n"
     ]
    }
   ],
   "source": [
    "for number in primes:\n",
    "    if number %2 == 0:\n",
    "        print('Prime', number, 'is even!')\n",
    "    elif number < 10:\n",
    "        print('Prime', number, 'is less than 10!')\n",
    "    elif number < 50:\n",
    "        print('Prime', number, 'is less than 50!')\n",
    "    else:\n",
    "        print('Prime', number, 'is really big!')"
   ]
  },
  {
   "cell_type": "markdown",
   "metadata": {},
   "source": [
    "<hr>\n",
    "\n",
    "## While Loops\n",
    "\n",
    "This is python's way of saying: \n",
    "> While a condition is met.. Do something.\n",
    "\n",
    "### General Syntax\n",
    "```python\n",
    "while <condition>:\n",
    "    # do something!\n",
    "```\n",
    "\n",
    "A really easy way to lock up your computer is to run this code:\n",
    "```python\n",
    "while True:\n",
    "    print(\"I'm a real data analyst!\")\n",
    "```\n",
    "\n",
    "Why does it break my computer, you ask? \n",
    "**_There is nothing stopping the condition from being True_**.\n",
    "\n",
    "In a `while loop`, you need to have a criteria that triggers a break. \n",
    "You need to make sure your condition has the ability to become `False`.\n",
    "\n",
    "Try running the code below as an example."
   ]
  },
  {
   "cell_type": "code",
   "execution_count": 28,
   "metadata": {},
   "outputs": [
    {
     "name": "stdout",
     "output_type": "stream",
     "text": [
      "1 is less than 10!\n",
      "2 is less than 10!\n",
      "3 is less than 10!\n",
      "4 is less than 10!\n",
      "5 is less than 10!\n",
      "6 is less than 10!\n",
      "7 is less than 10!\n",
      "8 is less than 10!\n",
      "9 is less than 10!\n"
     ]
    }
   ],
   "source": [
    "index = 1\n",
    "\n",
    "while index < 10:\n",
    "    print(f'{index} is less than 10!')\n",
    "    \n",
    "    index += 1"
   ]
  },
  {
   "cell_type": "markdown",
   "metadata": {},
   "source": [
    "### Breaking it down\n",
    "\n",
    "What is our condition??\n",
    "```index < 10```\n",
    "\n",
    "Ok.. What is our _control??_\n",
    "In other words, how are we breaking our condition?\n",
    "\n",
    "```python\n",
    "index = 1\n",
    "...\n",
    "index += 1\n",
    "```\n",
    "\n",
    "Every iteration through our loop, we add 1 to our index. \n",
    "Since our condition becomes False when the index is 10 or above, our while loop will stop at 10.\n",
    "\n",
    "### Escaping the loop\n",
    "When creating a `while loop`, it is **_ALWAYS_** important to manage your _control_ so that you can escape the loop!"
   ]
  },
  {
   "cell_type": "markdown",
   "metadata": {},
   "source": [
    "<hr>\n",
    "\n",
    "### YOUR TURN\n",
    "\n",
    "**Write a while loop that prints out `Prime [NUMBER] is less than 50` for all prime numbers that are less than 50!**"
   ]
  },
  {
   "cell_type": "code",
   "execution_count": 34,
   "metadata": {},
   "outputs": [
    {
     "name": "stdout",
     "output_type": "stream",
     "text": [
      "Prime 2 is less than 50\n",
      "Prime 3 is less than 50\n",
      "Prime 5 is less than 50\n",
      "Prime 7 is less than 50\n",
      "Prime 11 is less than 50\n",
      "Prime 13 is less than 50\n",
      "Prime 17 is less than 50\n",
      "Prime 19 is less than 50\n",
      "Prime 23 is less than 50\n",
      "Prime 29 is less than 50\n",
      "Prime 31 is less than 50\n",
      "Prime 37 is less than 50\n",
      "Prime 41 is less than 50\n",
      "Prime 43 is less than 50\n",
      "Prime 47 is less than 50\n"
     ]
    }
   ],
   "source": [
    "index = 0\n",
    "\n",
    "while primes[index] < 50:\n",
    "    print('Prime', primes[index], 'is less than 50')\n",
    "    \n",
    "    index = index + 1"
   ]
  }
 ],
 "metadata": {
  "kernelspec": {
   "display_name": "Python 3",
   "language": "python",
   "name": "python3"
  },
  "language_info": {
   "codemirror_mode": {
    "name": "ipython",
    "version": 3
   },
   "file_extension": ".py",
   "mimetype": "text/x-python",
   "name": "python",
   "nbconvert_exporter": "python",
   "pygments_lexer": "ipython3",
   "version": "3.7.6"
  }
 },
 "nbformat": 4,
 "nbformat_minor": 2
}
